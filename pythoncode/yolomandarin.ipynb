{
  "nbformat": 4,
  "nbformat_minor": 0,
  "metadata": {
    "colab": {
      "provenance": []
    },
    "kernelspec": {
      "name": "python3",
      "display_name": "Python 3"
    },
    "language_info": {
      "name": "python"
    }
  },
  "cells": [
    {
      "cell_type": "code",
      "execution_count": null,
      "metadata": {
        "colab": {
          "base_uri": "https://localhost:8080/"
        },
        "id": "F1e4l_t2gwEZ",
        "outputId": "1c51ec06-a309-405c-86eb-475d413baf20"
      },
      "outputs": [
        {
          "output_type": "execute_result",
          "data": {
            "text/plain": [
              "True"
            ]
          },
          "metadata": {},
          "execution_count": 1
        }
      ],
      "source": [
        "import torch\n",
        "torch.cuda.is_available()"
      ]
    },
    {
      "cell_type": "code",
      "source": [
        "!pip install roboflow\n",
        "\n",
        "from roboflow import Roboflow\n",
        "rf = Roboflow(api_key=\"#####\")\n",
        "project = rf.workspace(\"#####\").project(\"#####\")\n",
        "version = project.version(1)\n",
        "dataset = version.download(\"yolov8\")"
      ],
      "metadata": {
        "colab": {
          "base_uri": "https://localhost:8080/",
          "height": 1000
        },
        "id": "GNPpTRnvhXge",
        "outputId": "7b8323dd-1c66-422a-b02b-c1ceafd97b67"
      },
      "execution_count": null,
      "outputs": [
        {
          "output_type": "stream",
          "name": "stdout",
          "text": [
            "Collecting roboflow\n",
            "  Downloading roboflow-1.1.27-py3-none-any.whl (74 kB)\n",
            "\u001b[?25l     \u001b[90m━━━━━━━━━━━━━━━━━━━━━━━━━━━━━━━━━━━━━━━━\u001b[0m \u001b[32m0.0/74.1 kB\u001b[0m \u001b[31m?\u001b[0m eta \u001b[36m-:--:--\u001b[0m\r\u001b[2K     \u001b[90m━━━━━━━━━━━━━━━━━━━━━━━━━━━━━━━━━━━━━━━━\u001b[0m \u001b[32m74.1/74.1 kB\u001b[0m \u001b[31m2.5 MB/s\u001b[0m eta \u001b[36m0:00:00\u001b[0m\n",
            "\u001b[?25hCollecting certifi==2023.7.22 (from roboflow)\n",
            "  Downloading certifi-2023.7.22-py3-none-any.whl (158 kB)\n",
            "\u001b[?25l     \u001b[90m━━━━━━━━━━━━━━━━━━━━━━━━━━━━━━━━━━━━━━━━\u001b[0m \u001b[32m0.0/158.3 kB\u001b[0m \u001b[31m?\u001b[0m eta \u001b[36m-:--:--\u001b[0m\r\u001b[2K     \u001b[90m━━━━━━━━━━━━━━━━━━━━━━━━━━━━━━━━━━━━━━━━\u001b[0m \u001b[32m158.3/158.3 kB\u001b[0m \u001b[31m6.6 MB/s\u001b[0m eta \u001b[36m0:00:00\u001b[0m\n",
            "\u001b[?25hCollecting chardet==4.0.0 (from roboflow)\n",
            "  Downloading chardet-4.0.0-py2.py3-none-any.whl (178 kB)\n",
            "\u001b[2K     \u001b[90m━━━━━━━━━━━━━━━━━━━━━━━━━━━━━━━━━━━━━━━━\u001b[0m \u001b[32m178.7/178.7 kB\u001b[0m \u001b[31m9.0 MB/s\u001b[0m eta \u001b[36m0:00:00\u001b[0m\n",
            "\u001b[?25hCollecting cycler==0.10.0 (from roboflow)\n",
            "  Downloading cycler-0.10.0-py2.py3-none-any.whl (6.5 kB)\n",
            "Collecting idna==2.10 (from roboflow)\n",
            "  Downloading idna-2.10-py2.py3-none-any.whl (58 kB)\n",
            "\u001b[2K     \u001b[90m━━━━━━━━━━━━━━━━━━━━━━━━━━━━━━━━━━━━━━━━\u001b[0m \u001b[32m58.8/58.8 kB\u001b[0m \u001b[31m8.4 MB/s\u001b[0m eta \u001b[36m0:00:00\u001b[0m\n",
            "\u001b[?25hRequirement already satisfied: kiwisolver>=1.3.1 in /usr/local/lib/python3.10/dist-packages (from roboflow) (1.4.5)\n",
            "Requirement already satisfied: matplotlib in /usr/local/lib/python3.10/dist-packages (from roboflow) (3.7.1)\n",
            "Requirement already satisfied: numpy>=1.18.5 in /usr/local/lib/python3.10/dist-packages (from roboflow) (1.25.2)\n",
            "Collecting opencv-python-headless==4.8.0.74 (from roboflow)\n",
            "  Downloading opencv_python_headless-4.8.0.74-cp37-abi3-manylinux_2_17_x86_64.manylinux2014_x86_64.whl (49.1 MB)\n",
            "\u001b[2K     \u001b[90m━━━━━━━━━━━━━━━━━━━━━━━━━━━━━━━━━━━━━━━━\u001b[0m \u001b[32m49.1/49.1 MB\u001b[0m \u001b[31m21.4 MB/s\u001b[0m eta \u001b[36m0:00:00\u001b[0m\n",
            "\u001b[?25hRequirement already satisfied: Pillow>=7.1.2 in /usr/local/lib/python3.10/dist-packages (from roboflow) (9.4.0)\n",
            "Requirement already satisfied: python-dateutil in /usr/local/lib/python3.10/dist-packages (from roboflow) (2.8.2)\n",
            "Collecting python-dotenv (from roboflow)\n",
            "  Downloading python_dotenv-1.0.1-py3-none-any.whl (19 kB)\n",
            "Requirement already satisfied: requests in /usr/local/lib/python3.10/dist-packages (from roboflow) (2.31.0)\n",
            "Requirement already satisfied: six in /usr/local/lib/python3.10/dist-packages (from roboflow) (1.16.0)\n",
            "Requirement already satisfied: urllib3>=1.26.6 in /usr/local/lib/python3.10/dist-packages (from roboflow) (2.0.7)\n",
            "Requirement already satisfied: tqdm>=4.41.0 in /usr/local/lib/python3.10/dist-packages (from roboflow) (4.66.2)\n",
            "Requirement already satisfied: PyYAML>=5.3.1 in /usr/local/lib/python3.10/dist-packages (from roboflow) (6.0.1)\n",
            "Collecting requests-toolbelt (from roboflow)\n",
            "  Downloading requests_toolbelt-1.0.0-py2.py3-none-any.whl (54 kB)\n",
            "\u001b[2K     \u001b[90m━━━━━━━━━━━━━━━━━━━━━━━━━━━━━━━━━━━━━━━━\u001b[0m \u001b[32m54.5/54.5 kB\u001b[0m \u001b[31m7.7 MB/s\u001b[0m eta \u001b[36m0:00:00\u001b[0m\n",
            "\u001b[?25hCollecting python-magic (from roboflow)\n",
            "  Downloading python_magic-0.4.27-py2.py3-none-any.whl (13 kB)\n",
            "Requirement already satisfied: contourpy>=1.0.1 in /usr/local/lib/python3.10/dist-packages (from matplotlib->roboflow) (1.2.0)\n",
            "Requirement already satisfied: fonttools>=4.22.0 in /usr/local/lib/python3.10/dist-packages (from matplotlib->roboflow) (4.50.0)\n",
            "Requirement already satisfied: packaging>=20.0 in /usr/local/lib/python3.10/dist-packages (from matplotlib->roboflow) (24.0)\n",
            "Requirement already satisfied: pyparsing>=2.3.1 in /usr/local/lib/python3.10/dist-packages (from matplotlib->roboflow) (3.1.2)\n",
            "Requirement already satisfied: charset-normalizer<4,>=2 in /usr/local/lib/python3.10/dist-packages (from requests->roboflow) (3.3.2)\n",
            "Installing collected packages: python-magic, python-dotenv, opencv-python-headless, idna, cycler, chardet, certifi, requests-toolbelt, roboflow\n",
            "  Attempting uninstall: opencv-python-headless\n",
            "    Found existing installation: opencv-python-headless 4.9.0.80\n",
            "    Uninstalling opencv-python-headless-4.9.0.80:\n",
            "      Successfully uninstalled opencv-python-headless-4.9.0.80\n",
            "  Attempting uninstall: idna\n",
            "    Found existing installation: idna 3.6\n",
            "    Uninstalling idna-3.6:\n",
            "      Successfully uninstalled idna-3.6\n",
            "  Attempting uninstall: cycler\n",
            "    Found existing installation: cycler 0.12.1\n",
            "    Uninstalling cycler-0.12.1:\n",
            "      Successfully uninstalled cycler-0.12.1\n",
            "  Attempting uninstall: chardet\n",
            "    Found existing installation: chardet 5.2.0\n",
            "    Uninstalling chardet-5.2.0:\n",
            "      Successfully uninstalled chardet-5.2.0\n",
            "  Attempting uninstall: certifi\n",
            "    Found existing installation: certifi 2024.2.2\n",
            "    Uninstalling certifi-2024.2.2:\n",
            "      Successfully uninstalled certifi-2024.2.2\n",
            "Successfully installed certifi-2023.7.22 chardet-4.0.0 cycler-0.10.0 idna-2.10 opencv-python-headless-4.8.0.74 python-dotenv-1.0.1 python-magic-0.4.27 requests-toolbelt-1.0.0 roboflow-1.1.27\n"
          ]
        },
        {
          "output_type": "display_data",
          "data": {
            "application/vnd.colab-display-data+json": {
              "pip_warning": {
                "packages": [
                  "certifi",
                  "cycler"
                ]
              },
              "id": "340b6d4bd40a48d7b0c09c0d9f8cc4d9"
            }
          },
          "metadata": {}
        },
        {
          "output_type": "stream",
          "name": "stdout",
          "text": [
            "loading Roboflow workspace...\n",
            "loading Roboflow project...\n",
            "[WARNING] we noticed you are downloading a `yolov8` datasets but you don't have `ultralytics` installed. Roboflow `.deploy` supports only models trained with `ultralytics==8.0.196`, to intall it `pip install ultralytics==8.0.196`.\n"
          ]
        },
        {
          "output_type": "stream",
          "name": "stderr",
          "text": [
            "Downloading Dataset Version Zip in Mandarin-1 to yolov8:: 100%|██████████| 6916/6916 [00:00<00:00, 21519.00it/s]"
          ]
        },
        {
          "output_type": "stream",
          "name": "stdout",
          "text": [
            "\n"
          ]
        },
        {
          "output_type": "stream",
          "name": "stderr",
          "text": [
            "\n",
            "Extracting Dataset Version Zip to Mandarin-1 in yolov8:: 100%|██████████| 320/320 [00:00<00:00, 7452.11it/s]\n"
          ]
        }
      ]
    },
    {
      "cell_type": "code",
      "source": [
        "!pip install ultralytics"
      ],
      "metadata": {
        "colab": {
          "base_uri": "https://localhost:8080/"
        },
        "id": "_R0ZZSwmrlng",
        "outputId": "27df34f2-3fdb-4f8f-80de-d7fd50ec85a5"
      },
      "execution_count": null,
      "outputs": [
        {
          "output_type": "stream",
          "name": "stdout",
          "text": [
            "Collecting ultralytics\n",
            "  Downloading ultralytics-8.1.47-py3-none-any.whl (750 kB)\n",
            "\u001b[?25l     \u001b[90m━━━━━━━━━━━━━━━━━━━━━━━━━━━━━━━━━━━━━━━━\u001b[0m \u001b[32m0.0/750.4 kB\u001b[0m \u001b[31m?\u001b[0m eta \u001b[36m-:--:--\u001b[0m\r\u001b[2K     \u001b[91m━━━━━━━━━━━━━\u001b[0m\u001b[91m╸\u001b[0m\u001b[90m━━━━━━━━━━━━━━━━━━━━━━━━━━\u001b[0m \u001b[32m256.0/750.4 kB\u001b[0m \u001b[31m7.5 MB/s\u001b[0m eta \u001b[36m0:00:01\u001b[0m\r\u001b[2K     \u001b[91m━━━━━━━━━━━━━━━━━━━━━━━━━━━━━━━━━━━━━━━\u001b[0m\u001b[91m╸\u001b[0m \u001b[32m747.5/750.4 kB\u001b[0m \u001b[31m11.1 MB/s\u001b[0m eta \u001b[36m0:00:01\u001b[0m\r\u001b[2K     \u001b[90m━━━━━━━━━━━━━━━━━━━━━━━━━━━━━━━━━━━━━━━━\u001b[0m \u001b[32m750.4/750.4 kB\u001b[0m \u001b[31m9.2 MB/s\u001b[0m eta \u001b[36m0:00:00\u001b[0m\n",
            "\u001b[?25hRequirement already satisfied: matplotlib>=3.3.0 in /usr/local/lib/python3.10/dist-packages (from ultralytics) (3.7.1)\n",
            "Requirement already satisfied: opencv-python>=4.6.0 in /usr/local/lib/python3.10/dist-packages (from ultralytics) (4.8.0.76)\n",
            "Requirement already satisfied: pillow>=7.1.2 in /usr/local/lib/python3.10/dist-packages (from ultralytics) (9.4.0)\n",
            "Requirement already satisfied: pyyaml>=5.3.1 in /usr/local/lib/python3.10/dist-packages (from ultralytics) (6.0.1)\n",
            "Requirement already satisfied: requests>=2.23.0 in /usr/local/lib/python3.10/dist-packages (from ultralytics) (2.31.0)\n",
            "Requirement already satisfied: scipy>=1.4.1 in /usr/local/lib/python3.10/dist-packages (from ultralytics) (1.11.4)\n",
            "Requirement already satisfied: torch>=1.8.0 in /usr/local/lib/python3.10/dist-packages (from ultralytics) (2.2.1+cu121)\n",
            "Requirement already satisfied: torchvision>=0.9.0 in /usr/local/lib/python3.10/dist-packages (from ultralytics) (0.17.1+cu121)\n",
            "Requirement already satisfied: tqdm>=4.64.0 in /usr/local/lib/python3.10/dist-packages (from ultralytics) (4.66.2)\n",
            "Requirement already satisfied: psutil in /usr/local/lib/python3.10/dist-packages (from ultralytics) (5.9.5)\n",
            "Requirement already satisfied: py-cpuinfo in /usr/local/lib/python3.10/dist-packages (from ultralytics) (9.0.0)\n",
            "Collecting thop>=0.1.1 (from ultralytics)\n",
            "  Downloading thop-0.1.1.post2209072238-py3-none-any.whl (15 kB)\n",
            "Requirement already satisfied: pandas>=1.1.4 in /usr/local/lib/python3.10/dist-packages (from ultralytics) (1.5.3)\n",
            "Requirement already satisfied: seaborn>=0.11.0 in /usr/local/lib/python3.10/dist-packages (from ultralytics) (0.13.1)\n",
            "Requirement already satisfied: contourpy>=1.0.1 in /usr/local/lib/python3.10/dist-packages (from matplotlib>=3.3.0->ultralytics) (1.2.0)\n",
            "Requirement already satisfied: cycler>=0.10 in /usr/local/lib/python3.10/dist-packages (from matplotlib>=3.3.0->ultralytics) (0.10.0)\n",
            "Requirement already satisfied: fonttools>=4.22.0 in /usr/local/lib/python3.10/dist-packages (from matplotlib>=3.3.0->ultralytics) (4.50.0)\n",
            "Requirement already satisfied: kiwisolver>=1.0.1 in /usr/local/lib/python3.10/dist-packages (from matplotlib>=3.3.0->ultralytics) (1.4.5)\n",
            "Requirement already satisfied: numpy>=1.20 in /usr/local/lib/python3.10/dist-packages (from matplotlib>=3.3.0->ultralytics) (1.25.2)\n",
            "Requirement already satisfied: packaging>=20.0 in /usr/local/lib/python3.10/dist-packages (from matplotlib>=3.3.0->ultralytics) (24.0)\n",
            "Requirement already satisfied: pyparsing>=2.3.1 in /usr/local/lib/python3.10/dist-packages (from matplotlib>=3.3.0->ultralytics) (3.1.2)\n",
            "Requirement already satisfied: python-dateutil>=2.7 in /usr/local/lib/python3.10/dist-packages (from matplotlib>=3.3.0->ultralytics) (2.8.2)\n",
            "Requirement already satisfied: pytz>=2020.1 in /usr/local/lib/python3.10/dist-packages (from pandas>=1.1.4->ultralytics) (2023.4)\n",
            "Requirement already satisfied: charset-normalizer<4,>=2 in /usr/local/lib/python3.10/dist-packages (from requests>=2.23.0->ultralytics) (3.3.2)\n",
            "Requirement already satisfied: idna<4,>=2.5 in /usr/local/lib/python3.10/dist-packages (from requests>=2.23.0->ultralytics) (2.10)\n",
            "Requirement already satisfied: urllib3<3,>=1.21.1 in /usr/local/lib/python3.10/dist-packages (from requests>=2.23.0->ultralytics) (2.0.7)\n",
            "Requirement already satisfied: certifi>=2017.4.17 in /usr/local/lib/python3.10/dist-packages (from requests>=2.23.0->ultralytics) (2023.7.22)\n",
            "Requirement already satisfied: filelock in /usr/local/lib/python3.10/dist-packages (from torch>=1.8.0->ultralytics) (3.13.3)\n",
            "Requirement already satisfied: typing-extensions>=4.8.0 in /usr/local/lib/python3.10/dist-packages (from torch>=1.8.0->ultralytics) (4.10.0)\n",
            "Requirement already satisfied: sympy in /usr/local/lib/python3.10/dist-packages (from torch>=1.8.0->ultralytics) (1.12)\n",
            "Requirement already satisfied: networkx in /usr/local/lib/python3.10/dist-packages (from torch>=1.8.0->ultralytics) (3.2.1)\n",
            "Requirement already satisfied: jinja2 in /usr/local/lib/python3.10/dist-packages (from torch>=1.8.0->ultralytics) (3.1.3)\n",
            "Requirement already satisfied: fsspec in /usr/local/lib/python3.10/dist-packages (from torch>=1.8.0->ultralytics) (2023.6.0)\n",
            "Collecting nvidia-cuda-nvrtc-cu12==12.1.105 (from torch>=1.8.0->ultralytics)\n",
            "  Downloading nvidia_cuda_nvrtc_cu12-12.1.105-py3-none-manylinux1_x86_64.whl (23.7 MB)\n",
            "\u001b[2K     \u001b[90m━━━━━━━━━━━━━━━━━━━━━━━━━━━━━━━━━━━━━━━━\u001b[0m \u001b[32m23.7/23.7 MB\u001b[0m \u001b[31m51.4 MB/s\u001b[0m eta \u001b[36m0:00:00\u001b[0m\n",
            "\u001b[?25hCollecting nvidia-cuda-runtime-cu12==12.1.105 (from torch>=1.8.0->ultralytics)\n",
            "  Downloading nvidia_cuda_runtime_cu12-12.1.105-py3-none-manylinux1_x86_64.whl (823 kB)\n",
            "\u001b[2K     \u001b[90m━━━━━━━━━━━━━━━━━━━━━━━━━━━━━━━━━━━━━━━━\u001b[0m \u001b[32m823.6/823.6 kB\u001b[0m \u001b[31m62.1 MB/s\u001b[0m eta \u001b[36m0:00:00\u001b[0m\n",
            "\u001b[?25hCollecting nvidia-cuda-cupti-cu12==12.1.105 (from torch>=1.8.0->ultralytics)\n",
            "  Downloading nvidia_cuda_cupti_cu12-12.1.105-py3-none-manylinux1_x86_64.whl (14.1 MB)\n",
            "\u001b[2K     \u001b[90m━━━━━━━━━━━━━━━━━━━━━━━━━━━━━━━━━━━━━━━━\u001b[0m \u001b[32m14.1/14.1 MB\u001b[0m \u001b[31m83.0 MB/s\u001b[0m eta \u001b[36m0:00:00\u001b[0m\n",
            "\u001b[?25hCollecting nvidia-cudnn-cu12==8.9.2.26 (from torch>=1.8.0->ultralytics)\n",
            "  Downloading nvidia_cudnn_cu12-8.9.2.26-py3-none-manylinux1_x86_64.whl (731.7 MB)\n",
            "\u001b[2K     \u001b[90m━━━━━━━━━━━━━━━━━━━━━━━━━━━━━━━━━━━━━━━━\u001b[0m \u001b[32m731.7/731.7 MB\u001b[0m \u001b[31m2.2 MB/s\u001b[0m eta \u001b[36m0:00:00\u001b[0m\n",
            "\u001b[?25hCollecting nvidia-cublas-cu12==12.1.3.1 (from torch>=1.8.0->ultralytics)\n",
            "  Downloading nvidia_cublas_cu12-12.1.3.1-py3-none-manylinux1_x86_64.whl (410.6 MB)\n",
            "\u001b[2K     \u001b[90m━━━━━━━━━━━━━━━━━━━━━━━━━━━━━━━━━━━━━━━━\u001b[0m \u001b[32m410.6/410.6 MB\u001b[0m \u001b[31m2.1 MB/s\u001b[0m eta \u001b[36m0:00:00\u001b[0m\n",
            "\u001b[?25hCollecting nvidia-cufft-cu12==11.0.2.54 (from torch>=1.8.0->ultralytics)\n",
            "  Downloading nvidia_cufft_cu12-11.0.2.54-py3-none-manylinux1_x86_64.whl (121.6 MB)\n",
            "\u001b[2K     \u001b[90m━━━━━━━━━━━━━━━━━━━━━━━━━━━━━━━━━━━━━━━━\u001b[0m \u001b[32m121.6/121.6 MB\u001b[0m \u001b[31m8.3 MB/s\u001b[0m eta \u001b[36m0:00:00\u001b[0m\n",
            "\u001b[?25hCollecting nvidia-curand-cu12==10.3.2.106 (from torch>=1.8.0->ultralytics)\n",
            "  Downloading nvidia_curand_cu12-10.3.2.106-py3-none-manylinux1_x86_64.whl (56.5 MB)\n",
            "\u001b[2K     \u001b[90m━━━━━━━━━━━━━━━━━━━━━━━━━━━━━━━━━━━━━━━━\u001b[0m \u001b[32m56.5/56.5 MB\u001b[0m \u001b[31m10.8 MB/s\u001b[0m eta \u001b[36m0:00:00\u001b[0m\n",
            "\u001b[?25hCollecting nvidia-cusolver-cu12==11.4.5.107 (from torch>=1.8.0->ultralytics)\n",
            "  Downloading nvidia_cusolver_cu12-11.4.5.107-py3-none-manylinux1_x86_64.whl (124.2 MB)\n",
            "\u001b[2K     \u001b[90m━━━━━━━━━━━━━━━━━━━━━━━━━━━━━━━━━━━━━━━━\u001b[0m \u001b[32m124.2/124.2 MB\u001b[0m \u001b[31m8.8 MB/s\u001b[0m eta \u001b[36m0:00:00\u001b[0m\n",
            "\u001b[?25hCollecting nvidia-cusparse-cu12==12.1.0.106 (from torch>=1.8.0->ultralytics)\n",
            "  Downloading nvidia_cusparse_cu12-12.1.0.106-py3-none-manylinux1_x86_64.whl (196.0 MB)\n",
            "\u001b[2K     \u001b[90m━━━━━━━━━━━━━━━━━━━━━━━━━━━━━━━━━━━━━━━━\u001b[0m \u001b[32m196.0/196.0 MB\u001b[0m \u001b[31m6.6 MB/s\u001b[0m eta \u001b[36m0:00:00\u001b[0m\n",
            "\u001b[?25hCollecting nvidia-nccl-cu12==2.19.3 (from torch>=1.8.0->ultralytics)\n",
            "  Downloading nvidia_nccl_cu12-2.19.3-py3-none-manylinux1_x86_64.whl (166.0 MB)\n",
            "\u001b[2K     \u001b[90m━━━━━━━━━━━━━━━━━━━━━━━━━━━━━━━━━━━━━━━━\u001b[0m \u001b[32m166.0/166.0 MB\u001b[0m \u001b[31m7.1 MB/s\u001b[0m eta \u001b[36m0:00:00\u001b[0m\n",
            "\u001b[?25hCollecting nvidia-nvtx-cu12==12.1.105 (from torch>=1.8.0->ultralytics)\n",
            "  Downloading nvidia_nvtx_cu12-12.1.105-py3-none-manylinux1_x86_64.whl (99 kB)\n",
            "\u001b[2K     \u001b[90m━━━━━━━━━━━━━━━━━━━━━━━━━━━━━━━━━━━━━━━━\u001b[0m \u001b[32m99.1/99.1 kB\u001b[0m \u001b[31m13.2 MB/s\u001b[0m eta \u001b[36m0:00:00\u001b[0m\n",
            "\u001b[?25hRequirement already satisfied: triton==2.2.0 in /usr/local/lib/python3.10/dist-packages (from torch>=1.8.0->ultralytics) (2.2.0)\n",
            "Collecting nvidia-nvjitlink-cu12 (from nvidia-cusolver-cu12==11.4.5.107->torch>=1.8.0->ultralytics)\n",
            "  Downloading nvidia_nvjitlink_cu12-12.4.127-py3-none-manylinux2014_x86_64.whl (21.1 MB)\n",
            "\u001b[2K     \u001b[90m━━━━━━━━━━━━━━━━━━━━━━━━━━━━━━━━━━━━━━━━\u001b[0m \u001b[32m21.1/21.1 MB\u001b[0m \u001b[31m78.1 MB/s\u001b[0m eta \u001b[36m0:00:00\u001b[0m\n",
            "\u001b[?25hRequirement already satisfied: six in /usr/local/lib/python3.10/dist-packages (from cycler>=0.10->matplotlib>=3.3.0->ultralytics) (1.16.0)\n",
            "Requirement already satisfied: MarkupSafe>=2.0 in /usr/local/lib/python3.10/dist-packages (from jinja2->torch>=1.8.0->ultralytics) (2.1.5)\n",
            "Requirement already satisfied: mpmath>=0.19 in /usr/local/lib/python3.10/dist-packages (from sympy->torch>=1.8.0->ultralytics) (1.3.0)\n",
            "Installing collected packages: nvidia-nvtx-cu12, nvidia-nvjitlink-cu12, nvidia-nccl-cu12, nvidia-curand-cu12, nvidia-cufft-cu12, nvidia-cuda-runtime-cu12, nvidia-cuda-nvrtc-cu12, nvidia-cuda-cupti-cu12, nvidia-cublas-cu12, nvidia-cusparse-cu12, nvidia-cudnn-cu12, nvidia-cusolver-cu12, thop, ultralytics\n",
            "Successfully installed nvidia-cublas-cu12-12.1.3.1 nvidia-cuda-cupti-cu12-12.1.105 nvidia-cuda-nvrtc-cu12-12.1.105 nvidia-cuda-runtime-cu12-12.1.105 nvidia-cudnn-cu12-8.9.2.26 nvidia-cufft-cu12-11.0.2.54 nvidia-curand-cu12-10.3.2.106 nvidia-cusolver-cu12-11.4.5.107 nvidia-cusparse-cu12-12.1.0.106 nvidia-nccl-cu12-2.19.3 nvidia-nvjitlink-cu12-12.4.127 nvidia-nvtx-cu12-12.1.105 thop-0.1.1.post2209072238 ultralytics-8.1.47\n"
          ]
        }
      ]
    },
    {
      "cell_type": "code",
      "source": [
        "from ultralytics import YOLO\n",
        "\n",
        "model = YOLO('yolov8m.pt')\n",
        "\n",
        "result = model.train(data = 'data.yaml',epochs = 100, imgsz = 640)"
      ],
      "metadata": {
        "colab": {
          "base_uri": "https://localhost:8080/"
        },
        "id": "37HmlbOxrqYK",
        "outputId": "039b1e5a-543d-4792-ea1b-d3fcb1f552c9"
      },
      "execution_count": null,
      "outputs": [
        {
          "output_type": "stream",
          "name": "stdout",
          "text": [
            "Ultralytics YOLOv8.1.47 🚀 Python-3.10.12 torch-2.2.1+cu121 CUDA:0 (Tesla T4, 15102MiB)\n",
            "\u001b[34m\u001b[1mengine/trainer: \u001b[0mtask=detect, mode=train, model=yolov8m.pt, data=data.yaml, epochs=100, time=None, patience=100, batch=16, imgsz=640, save=True, save_period=-1, cache=False, device=None, workers=8, project=None, name=train3, exist_ok=False, pretrained=True, optimizer=auto, verbose=True, seed=0, deterministic=True, single_cls=False, rect=False, cos_lr=False, close_mosaic=10, resume=False, amp=True, fraction=1.0, profile=False, freeze=None, multi_scale=False, overlap_mask=True, mask_ratio=4, dropout=0.0, val=True, split=val, save_json=False, save_hybrid=False, conf=None, iou=0.7, max_det=300, half=False, dnn=False, plots=True, source=None, vid_stride=1, stream_buffer=False, visualize=False, augment=False, agnostic_nms=False, classes=None, retina_masks=False, embed=None, show=False, save_frames=False, save_txt=False, save_conf=False, save_crop=False, show_labels=True, show_conf=True, show_boxes=True, line_width=None, format=torchscript, keras=False, optimize=False, int8=False, dynamic=False, simplify=False, opset=None, workspace=4, nms=False, lr0=0.01, lrf=0.01, momentum=0.937, weight_decay=0.0005, warmup_epochs=3.0, warmup_momentum=0.8, warmup_bias_lr=0.1, box=7.5, cls=0.5, dfl=1.5, pose=12.0, kobj=1.0, label_smoothing=0.0, nbs=64, hsv_h=0.015, hsv_s=0.7, hsv_v=0.4, degrees=0.0, translate=0.1, scale=0.5, shear=0.0, perspective=0.0, flipud=0.0, fliplr=0.5, bgr=0.0, mosaic=1.0, mixup=0.0, copy_paste=0.0, auto_augment=randaugment, erasing=0.4, crop_fraction=1.0, cfg=None, tracker=botsort.yaml, save_dir=runs/detect/train3\n",
            "Downloading https://ultralytics.com/assets/Arial.ttf to '/root/.config/Ultralytics/Arial.ttf'...\n"
          ]
        },
        {
          "output_type": "stream",
          "name": "stderr",
          "text": [
            "100%|██████████| 755k/755k [00:00<00:00, 26.1MB/s]\n"
          ]
        },
        {
          "output_type": "stream",
          "name": "stdout",
          "text": [
            "Overriding model.yaml nc=80 with nc=1\n",
            "\n",
            "                   from  n    params  module                                       arguments                     \n",
            "  0                  -1  1      1392  ultralytics.nn.modules.conv.Conv             [3, 48, 3, 2]                 \n",
            "  1                  -1  1     41664  ultralytics.nn.modules.conv.Conv             [48, 96, 3, 2]                \n",
            "  2                  -1  2    111360  ultralytics.nn.modules.block.C2f             [96, 96, 2, True]             \n",
            "  3                  -1  1    166272  ultralytics.nn.modules.conv.Conv             [96, 192, 3, 2]               \n",
            "  4                  -1  4    813312  ultralytics.nn.modules.block.C2f             [192, 192, 4, True]           \n",
            "  5                  -1  1    664320  ultralytics.nn.modules.conv.Conv             [192, 384, 3, 2]              \n",
            "  6                  -1  4   3248640  ultralytics.nn.modules.block.C2f             [384, 384, 4, True]           \n",
            "  7                  -1  1   1991808  ultralytics.nn.modules.conv.Conv             [384, 576, 3, 2]              \n",
            "  8                  -1  2   3985920  ultralytics.nn.modules.block.C2f             [576, 576, 2, True]           \n",
            "  9                  -1  1    831168  ultralytics.nn.modules.block.SPPF            [576, 576, 5]                 \n",
            " 10                  -1  1         0  torch.nn.modules.upsampling.Upsample         [None, 2, 'nearest']          \n",
            " 11             [-1, 6]  1         0  ultralytics.nn.modules.conv.Concat           [1]                           \n",
            " 12                  -1  2   1993728  ultralytics.nn.modules.block.C2f             [960, 384, 2]                 \n",
            " 13                  -1  1         0  torch.nn.modules.upsampling.Upsample         [None, 2, 'nearest']          \n",
            " 14             [-1, 4]  1         0  ultralytics.nn.modules.conv.Concat           [1]                           \n",
            " 15                  -1  2    517632  ultralytics.nn.modules.block.C2f             [576, 192, 2]                 \n",
            " 16                  -1  1    332160  ultralytics.nn.modules.conv.Conv             [192, 192, 3, 2]              \n",
            " 17            [-1, 12]  1         0  ultralytics.nn.modules.conv.Concat           [1]                           \n",
            " 18                  -1  2   1846272  ultralytics.nn.modules.block.C2f             [576, 384, 2]                 \n",
            " 19                  -1  1   1327872  ultralytics.nn.modules.conv.Conv             [384, 384, 3, 2]              \n",
            " 20             [-1, 9]  1         0  ultralytics.nn.modules.conv.Concat           [1]                           \n",
            " 21                  -1  2   4207104  ultralytics.nn.modules.block.C2f             [960, 576, 2]                 \n",
            " 22        [15, 18, 21]  1   3776275  ultralytics.nn.modules.head.Detect           [1, [192, 384, 576]]          \n",
            "Model summary: 295 layers, 25856899 parameters, 25856883 gradients, 79.1 GFLOPs\n",
            "\n",
            "Transferred 469/475 items from pretrained weights\n",
            "\u001b[34m\u001b[1mTensorBoard: \u001b[0mStart with 'tensorboard --logdir runs/detect/train3', view at http://localhost:6006/\n",
            "Freezing layer 'model.22.dfl.conv.weight'\n",
            "\u001b[34m\u001b[1mAMP: \u001b[0mrunning Automatic Mixed Precision (AMP) checks with YOLOv8n...\n",
            "Downloading https://github.com/ultralytics/assets/releases/download/v8.1.0/yolov8n.pt to 'yolov8n.pt'...\n"
          ]
        },
        {
          "output_type": "stream",
          "name": "stderr",
          "text": [
            "100%|██████████| 6.23M/6.23M [00:00<00:00, 112MB/s]\n"
          ]
        },
        {
          "output_type": "stream",
          "name": "stdout",
          "text": [
            "\u001b[34m\u001b[1mAMP: \u001b[0mchecks passed ✅\n"
          ]
        },
        {
          "output_type": "stream",
          "name": "stderr",
          "text": [
            "\u001b[34m\u001b[1mtrain: \u001b[0mScanning /content/datasets/Mandarin-1/train/labels... 136 images, 0 backgrounds, 0 corrupt: 100%|██████████| 136/136 [00:00<00:00, 534.18it/s]"
          ]
        },
        {
          "output_type": "stream",
          "name": "stdout",
          "text": [
            "\u001b[34m\u001b[1mtrain: \u001b[0mNew cache created: /content/datasets/Mandarin-1/train/labels.cache\n"
          ]
        },
        {
          "output_type": "stream",
          "name": "stderr",
          "text": [
            "\n"
          ]
        },
        {
          "output_type": "stream",
          "name": "stdout",
          "text": [
            "\u001b[34m\u001b[1malbumentations: \u001b[0mBlur(p=0.01, blur_limit=(3, 7)), MedianBlur(p=0.01, blur_limit=(3, 7)), ToGray(p=0.01), CLAHE(p=0.01, clip_limit=(1, 4.0), tile_grid_size=(8, 8))\n"
          ]
        },
        {
          "output_type": "stream",
          "name": "stderr",
          "text": [
            "\u001b[34m\u001b[1mval: \u001b[0mScanning /content/datasets/Mandarin-1/valid/labels... 15 images, 0 backgrounds, 0 corrupt: 100%|██████████| 15/15 [00:00<00:00, 353.12it/s]"
          ]
        },
        {
          "output_type": "stream",
          "name": "stdout",
          "text": [
            "\u001b[34m\u001b[1mval: \u001b[0mNew cache created: /content/datasets/Mandarin-1/valid/labels.cache\n"
          ]
        },
        {
          "output_type": "stream",
          "name": "stderr",
          "text": [
            "\n"
          ]
        },
        {
          "output_type": "stream",
          "name": "stdout",
          "text": [
            "Plotting labels to runs/detect/train3/labels.jpg... \n",
            "\u001b[34m\u001b[1moptimizer:\u001b[0m 'optimizer=auto' found, ignoring 'lr0=0.01' and 'momentum=0.937' and determining best 'optimizer', 'lr0' and 'momentum' automatically... \n",
            "\u001b[34m\u001b[1moptimizer:\u001b[0m AdamW(lr=0.002, momentum=0.9) with parameter groups 77 weight(decay=0.0), 84 weight(decay=0.0005), 83 bias(decay=0.0)\n",
            "\u001b[34m\u001b[1mTensorBoard: \u001b[0mmodel graph visualization added ✅\n",
            "Image sizes 640 train, 640 val\n",
            "Using 2 dataloader workers\n",
            "Logging results to \u001b[1mruns/detect/train3\u001b[0m\n",
            "Starting training for 100 epochs...\n",
            "\n",
            "      Epoch    GPU_mem   box_loss   cls_loss   dfl_loss  Instances       Size\n"
          ]
        },
        {
          "output_type": "stream",
          "name": "stderr",
          "text": [
            "      1/100      7.39G      1.412      2.882      2.034         16        640: 100%|██████████| 9/9 [00:06<00:00,  1.30it/s]\n",
            "                 Class     Images  Instances      Box(P          R      mAP50  mAP50-95): 100%|██████████| 1/1 [00:02<00:00,  2.08s/it]"
          ]
        },
        {
          "output_type": "stream",
          "name": "stdout",
          "text": [
            "                   all         15         15          1      0.999      0.995      0.745\n"
          ]
        },
        {
          "output_type": "stream",
          "name": "stderr",
          "text": [
            "\n"
          ]
        },
        {
          "output_type": "stream",
          "name": "stdout",
          "text": [
            "\n",
            "      Epoch    GPU_mem   box_loss   cls_loss   dfl_loss  Instances       Size\n"
          ]
        },
        {
          "output_type": "stream",
          "name": "stderr",
          "text": [
            "      2/100      7.61G      1.153      1.241      1.596         19        640: 100%|██████████| 9/9 [00:04<00:00,  2.12it/s]\n",
            "                 Class     Images  Instances      Box(P          R      mAP50  mAP50-95): 100%|██████████| 1/1 [00:00<00:00,  3.42it/s]"
          ]
        },
        {
          "output_type": "stream",
          "name": "stdout",
          "text": [
            "                   all         15         15      0.769        0.8      0.901      0.682\n"
          ]
        },
        {
          "output_type": "stream",
          "name": "stderr",
          "text": [
            "\n"
          ]
        },
        {
          "output_type": "stream",
          "name": "stdout",
          "text": [
            "\n",
            "      Epoch    GPU_mem   box_loss   cls_loss   dfl_loss  Instances       Size\n"
          ]
        },
        {
          "output_type": "stream",
          "name": "stderr",
          "text": [
            "      3/100      7.64G      1.033      0.969      1.445         19        640: 100%|██████████| 9/9 [00:04<00:00,  2.13it/s]\n",
            "                 Class     Images  Instances      Box(P          R      mAP50  mAP50-95): 100%|██████████| 1/1 [00:00<00:00,  3.25it/s]"
          ]
        },
        {
          "output_type": "stream",
          "name": "stdout",
          "text": [
            "                   all         15         15      0.504      0.933      0.546        0.2\n"
          ]
        },
        {
          "output_type": "stream",
          "name": "stderr",
          "text": [
            "\n"
          ]
        },
        {
          "output_type": "stream",
          "name": "stdout",
          "text": [
            "\n",
            "      Epoch    GPU_mem   box_loss   cls_loss   dfl_loss  Instances       Size\n"
          ]
        },
        {
          "output_type": "stream",
          "name": "stderr",
          "text": [
            "      4/100      7.61G      1.071      1.019      1.466         10        640: 100%|██████████| 9/9 [00:04<00:00,  2.04it/s]\n",
            "                 Class     Images  Instances      Box(P          R      mAP50  mAP50-95): 100%|██████████| 1/1 [00:00<00:00,  4.14it/s]"
          ]
        },
        {
          "output_type": "stream",
          "name": "stdout",
          "text": [
            "                   all         15         15      0.124      0.867      0.135     0.0785\n"
          ]
        },
        {
          "output_type": "stream",
          "name": "stderr",
          "text": [
            "\n"
          ]
        },
        {
          "output_type": "stream",
          "name": "stdout",
          "text": [
            "\n",
            "      Epoch    GPU_mem   box_loss   cls_loss   dfl_loss  Instances       Size\n"
          ]
        },
        {
          "output_type": "stream",
          "name": "stderr",
          "text": [
            "      5/100      7.64G      1.179     0.9169      1.474         18        640: 100%|██████████| 9/9 [00:04<00:00,  2.15it/s]\n",
            "                 Class     Images  Instances      Box(P          R      mAP50  mAP50-95): 100%|██████████| 1/1 [00:00<00:00,  4.67it/s]"
          ]
        },
        {
          "output_type": "stream",
          "name": "stdout",
          "text": [
            "                   all         15         15      0.108          1       0.13     0.0673\n"
          ]
        },
        {
          "output_type": "stream",
          "name": "stderr",
          "text": [
            "\n"
          ]
        },
        {
          "output_type": "stream",
          "name": "stdout",
          "text": [
            "\n",
            "      Epoch    GPU_mem   box_loss   cls_loss   dfl_loss  Instances       Size\n"
          ]
        },
        {
          "output_type": "stream",
          "name": "stderr",
          "text": [
            "      6/100      7.62G      1.267     0.9219      1.559         17        640: 100%|██████████| 9/9 [00:04<00:00,  2.02it/s]\n",
            "                 Class     Images  Instances      Box(P          R      mAP50  mAP50-95): 100%|██████████| 1/1 [00:00<00:00,  2.69it/s]"
          ]
        },
        {
          "output_type": "stream",
          "name": "stdout",
          "text": [
            "                   all         15         15     0.0301          1     0.0558     0.0225\n"
          ]
        },
        {
          "output_type": "stream",
          "name": "stderr",
          "text": [
            "\n"
          ]
        },
        {
          "output_type": "stream",
          "name": "stdout",
          "text": [
            "\n",
            "      Epoch    GPU_mem   box_loss   cls_loss   dfl_loss  Instances       Size\n"
          ]
        },
        {
          "output_type": "stream",
          "name": "stderr",
          "text": [
            "      7/100      7.62G      1.185     0.8602      1.422         17        640: 100%|██████████| 9/9 [00:04<00:00,  2.15it/s]\n",
            "                 Class     Images  Instances      Box(P          R      mAP50  mAP50-95): 100%|██████████| 1/1 [00:00<00:00,  4.80it/s]"
          ]
        },
        {
          "output_type": "stream",
          "name": "stdout",
          "text": [
            "                   all         15         15     0.0301          1     0.0558     0.0225\n"
          ]
        },
        {
          "output_type": "stream",
          "name": "stderr",
          "text": [
            "\n"
          ]
        },
        {
          "output_type": "stream",
          "name": "stdout",
          "text": [
            "\n",
            "      Epoch    GPU_mem   box_loss   cls_loss   dfl_loss  Instances       Size\n"
          ]
        },
        {
          "output_type": "stream",
          "name": "stderr",
          "text": [
            "      8/100      7.61G      1.179     0.9071       1.48         17        640: 100%|██████████| 9/9 [00:04<00:00,  2.14it/s]\n",
            "                 Class     Images  Instances      Box(P          R      mAP50  mAP50-95): 100%|██████████| 1/1 [00:00<00:00,  3.03it/s]"
          ]
        },
        {
          "output_type": "stream",
          "name": "stdout",
          "text": [
            "                   all         15         15     0.0245      0.733     0.0384     0.0094\n"
          ]
        },
        {
          "output_type": "stream",
          "name": "stderr",
          "text": [
            "\n"
          ]
        },
        {
          "output_type": "stream",
          "name": "stdout",
          "text": [
            "\n",
            "      Epoch    GPU_mem   box_loss   cls_loss   dfl_loss  Instances       Size\n"
          ]
        },
        {
          "output_type": "stream",
          "name": "stderr",
          "text": [
            "      9/100      7.62G      1.126     0.8326      1.419         14        640: 100%|██████████| 9/9 [00:04<00:00,  2.03it/s]\n",
            "                 Class     Images  Instances      Box(P          R      mAP50  mAP50-95): 100%|██████████| 1/1 [00:00<00:00,  4.63it/s]"
          ]
        },
        {
          "output_type": "stream",
          "name": "stdout",
          "text": [
            "                   all         15         15      0.333        0.2      0.137     0.0534\n"
          ]
        },
        {
          "output_type": "stream",
          "name": "stderr",
          "text": [
            "\n"
          ]
        },
        {
          "output_type": "stream",
          "name": "stdout",
          "text": [
            "\n",
            "      Epoch    GPU_mem   box_loss   cls_loss   dfl_loss  Instances       Size\n"
          ]
        },
        {
          "output_type": "stream",
          "name": "stderr",
          "text": [
            "     10/100      7.62G      1.103     0.7413      1.425         18        640: 100%|██████████| 9/9 [00:04<00:00,  2.16it/s]\n",
            "                 Class     Images  Instances      Box(P          R      mAP50  mAP50-95): 100%|██████████| 1/1 [00:00<00:00,  4.28it/s]"
          ]
        },
        {
          "output_type": "stream",
          "name": "stdout",
          "text": [
            "                   all         15         15     0.0231        0.6     0.0494     0.0244\n"
          ]
        },
        {
          "output_type": "stream",
          "name": "stderr",
          "text": [
            "\n"
          ]
        },
        {
          "output_type": "stream",
          "name": "stdout",
          "text": [
            "\n",
            "      Epoch    GPU_mem   box_loss   cls_loss   dfl_loss  Instances       Size\n"
          ]
        },
        {
          "output_type": "stream",
          "name": "stderr",
          "text": [
            "     11/100      7.65G      1.134     0.7829      1.441         21        640: 100%|██████████| 9/9 [00:04<00:00,  2.00it/s]\n",
            "                 Class     Images  Instances      Box(P          R      mAP50  mAP50-95): 100%|██████████| 1/1 [00:00<00:00,  2.94it/s]"
          ]
        },
        {
          "output_type": "stream",
          "name": "stdout",
          "text": [
            "                   all         15         15    0.00193      0.267   0.000927    0.00028\n"
          ]
        },
        {
          "output_type": "stream",
          "name": "stderr",
          "text": [
            "\n"
          ]
        },
        {
          "output_type": "stream",
          "name": "stdout",
          "text": [
            "\n",
            "      Epoch    GPU_mem   box_loss   cls_loss   dfl_loss  Instances       Size\n"
          ]
        },
        {
          "output_type": "stream",
          "name": "stderr",
          "text": [
            "     12/100      7.64G      1.186     0.9549      1.475         21        640: 100%|██████████| 9/9 [00:04<00:00,  2.11it/s]\n",
            "                 Class     Images  Instances      Box(P          R      mAP50  mAP50-95): 100%|██████████| 1/1 [00:00<00:00,  4.48it/s]"
          ]
        },
        {
          "output_type": "stream",
          "name": "stdout",
          "text": [
            "                   all         15         15   0.000625      0.133   0.000356   0.000102\n"
          ]
        },
        {
          "output_type": "stream",
          "name": "stderr",
          "text": [
            "\n"
          ]
        },
        {
          "output_type": "stream",
          "name": "stdout",
          "text": [
            "\n",
            "      Epoch    GPU_mem   box_loss   cls_loss   dfl_loss  Instances       Size\n"
          ]
        },
        {
          "output_type": "stream",
          "name": "stderr",
          "text": [
            "     13/100      7.62G      1.145     0.7838      1.423         12        640: 100%|██████████| 9/9 [00:04<00:00,  2.10it/s]\n",
            "                 Class     Images  Instances      Box(P          R      mAP50  mAP50-95): 100%|██████████| 1/1 [00:00<00:00,  4.12it/s]"
          ]
        },
        {
          "output_type": "stream",
          "name": "stdout",
          "text": [
            "                   all         15         15    0.00385      0.933    0.00399    0.00112\n"
          ]
        },
        {
          "output_type": "stream",
          "name": "stderr",
          "text": [
            "\n"
          ]
        },
        {
          "output_type": "stream",
          "name": "stdout",
          "text": [
            "\n",
            "      Epoch    GPU_mem   box_loss   cls_loss   dfl_loss  Instances       Size\n"
          ]
        },
        {
          "output_type": "stream",
          "name": "stderr",
          "text": [
            "     14/100      7.64G      1.091      0.755      1.376         17        640: 100%|██████████| 9/9 [00:04<00:00,  2.00it/s]\n",
            "                 Class     Images  Instances      Box(P          R      mAP50  mAP50-95): 100%|██████████| 1/1 [00:00<00:00,  4.58it/s]"
          ]
        },
        {
          "output_type": "stream",
          "name": "stdout",
          "text": [
            "                   all         15         15     0.0109      0.533     0.0112    0.00426\n"
          ]
        },
        {
          "output_type": "stream",
          "name": "stderr",
          "text": [
            "\n"
          ]
        },
        {
          "output_type": "stream",
          "name": "stdout",
          "text": [
            "\n",
            "      Epoch    GPU_mem   box_loss   cls_loss   dfl_loss  Instances       Size\n"
          ]
        },
        {
          "output_type": "stream",
          "name": "stderr",
          "text": [
            "     15/100      7.64G      1.128     0.7374      1.432         14        640: 100%|██████████| 9/9 [00:04<00:00,  2.09it/s]\n",
            "                 Class     Images  Instances      Box(P          R      mAP50  mAP50-95): 100%|██████████| 1/1 [00:00<00:00,  4.14it/s]"
          ]
        },
        {
          "output_type": "stream",
          "name": "stdout",
          "text": [
            "                   all         15         15      0.259      0.933      0.353      0.146\n"
          ]
        },
        {
          "output_type": "stream",
          "name": "stderr",
          "text": [
            "\n"
          ]
        },
        {
          "output_type": "stream",
          "name": "stdout",
          "text": [
            "\n",
            "      Epoch    GPU_mem   box_loss   cls_loss   dfl_loss  Instances       Size\n"
          ]
        },
        {
          "output_type": "stream",
          "name": "stderr",
          "text": [
            "     16/100      7.65G      1.128     0.7169      1.435         16        640: 100%|██████████| 9/9 [00:04<00:00,  1.90it/s]\n",
            "                 Class     Images  Instances      Box(P          R      mAP50  mAP50-95): 100%|██████████| 1/1 [00:00<00:00,  3.09it/s]"
          ]
        },
        {
          "output_type": "stream",
          "name": "stdout",
          "text": [
            "                   all         15         15      0.812      0.867      0.833      0.406\n"
          ]
        },
        {
          "output_type": "stream",
          "name": "stderr",
          "text": [
            "\n"
          ]
        },
        {
          "output_type": "stream",
          "name": "stdout",
          "text": [
            "\n",
            "      Epoch    GPU_mem   box_loss   cls_loss   dfl_loss  Instances       Size\n"
          ]
        },
        {
          "output_type": "stream",
          "name": "stderr",
          "text": [
            "     17/100      7.61G       1.04     0.6957       1.39         17        640: 100%|██████████| 9/9 [00:04<00:00,  2.05it/s]\n",
            "                 Class     Images  Instances      Box(P          R      mAP50  mAP50-95): 100%|██████████| 1/1 [00:00<00:00,  4.55it/s]"
          ]
        },
        {
          "output_type": "stream",
          "name": "stdout",
          "text": [
            "                   all         15         15      0.727      0.533       0.63      0.388\n"
          ]
        },
        {
          "output_type": "stream",
          "name": "stderr",
          "text": [
            "\n"
          ]
        },
        {
          "output_type": "stream",
          "name": "stdout",
          "text": [
            "\n",
            "      Epoch    GPU_mem   box_loss   cls_loss   dfl_loss  Instances       Size\n"
          ]
        },
        {
          "output_type": "stream",
          "name": "stderr",
          "text": [
            "     18/100      7.63G        1.1     0.6792      1.382         12        640: 100%|██████████| 9/9 [00:04<00:00,  1.99it/s]\n",
            "                 Class     Images  Instances      Box(P          R      mAP50  mAP50-95): 100%|██████████| 1/1 [00:00<00:00,  2.92it/s]"
          ]
        },
        {
          "output_type": "stream",
          "name": "stdout",
          "text": [
            "                   all         15         15      0.846      0.933      0.964      0.739\n"
          ]
        },
        {
          "output_type": "stream",
          "name": "stderr",
          "text": [
            "\n"
          ]
        },
        {
          "output_type": "stream",
          "name": "stdout",
          "text": [
            "\n",
            "      Epoch    GPU_mem   box_loss   cls_loss   dfl_loss  Instances       Size\n"
          ]
        },
        {
          "output_type": "stream",
          "name": "stderr",
          "text": [
            "     19/100      7.65G      1.072       0.65      1.335         15        640: 100%|██████████| 9/9 [00:04<00:00,  1.98it/s]\n",
            "                 Class     Images  Instances      Box(P          R      mAP50  mAP50-95): 100%|██████████| 1/1 [00:00<00:00,  4.12it/s]"
          ]
        },
        {
          "output_type": "stream",
          "name": "stdout",
          "text": [
            "                   all         15         15      0.546        0.4      0.385      0.183\n"
          ]
        },
        {
          "output_type": "stream",
          "name": "stderr",
          "text": [
            "\n"
          ]
        },
        {
          "output_type": "stream",
          "name": "stdout",
          "text": [
            "\n",
            "      Epoch    GPU_mem   box_loss   cls_loss   dfl_loss  Instances       Size\n"
          ]
        },
        {
          "output_type": "stream",
          "name": "stderr",
          "text": [
            "     20/100      7.65G      1.079     0.6624      1.344         19        640: 100%|██████████| 9/9 [00:04<00:00,  2.01it/s]\n",
            "                 Class     Images  Instances      Box(P          R      mAP50  mAP50-95): 100%|██████████| 1/1 [00:00<00:00,  4.64it/s]"
          ]
        },
        {
          "output_type": "stream",
          "name": "stdout",
          "text": [
            "                   all         15         15      0.545      0.533      0.526      0.271\n"
          ]
        },
        {
          "output_type": "stream",
          "name": "stderr",
          "text": [
            "\n"
          ]
        },
        {
          "output_type": "stream",
          "name": "stdout",
          "text": [
            "\n",
            "      Epoch    GPU_mem   box_loss   cls_loss   dfl_loss  Instances       Size\n"
          ]
        },
        {
          "output_type": "stream",
          "name": "stderr",
          "text": [
            "     21/100      7.61G      1.034     0.6312      1.333         14        640: 100%|██████████| 9/9 [00:04<00:00,  1.88it/s]\n",
            "                 Class     Images  Instances      Box(P          R      mAP50  mAP50-95): 100%|██████████| 1/1 [00:00<00:00,  4.23it/s]"
          ]
        },
        {
          "output_type": "stream",
          "name": "stdout",
          "text": [
            "                   all         15         15      0.779      0.667      0.803       0.55\n"
          ]
        },
        {
          "output_type": "stream",
          "name": "stderr",
          "text": [
            "\n"
          ]
        },
        {
          "output_type": "stream",
          "name": "stdout",
          "text": [
            "\n",
            "      Epoch    GPU_mem   box_loss   cls_loss   dfl_loss  Instances       Size\n"
          ]
        },
        {
          "output_type": "stream",
          "name": "stderr",
          "text": [
            "     22/100      7.63G      1.038     0.6239      1.333         16        640: 100%|██████████| 9/9 [00:04<00:00,  2.03it/s]\n",
            "                 Class     Images  Instances      Box(P          R      mAP50  mAP50-95): 100%|██████████| 1/1 [00:00<00:00,  4.13it/s]"
          ]
        },
        {
          "output_type": "stream",
          "name": "stdout",
          "text": [
            "                   all         15         15      0.914      0.933      0.976      0.633\n"
          ]
        },
        {
          "output_type": "stream",
          "name": "stderr",
          "text": [
            "\n"
          ]
        },
        {
          "output_type": "stream",
          "name": "stdout",
          "text": [
            "\n",
            "      Epoch    GPU_mem   box_loss   cls_loss   dfl_loss  Instances       Size\n"
          ]
        },
        {
          "output_type": "stream",
          "name": "stderr",
          "text": [
            "     23/100      7.65G     0.9685     0.6298      1.322         19        640: 100%|██████████| 9/9 [00:04<00:00,  1.96it/s]\n",
            "                 Class     Images  Instances      Box(P          R      mAP50  mAP50-95): 100%|██████████| 1/1 [00:00<00:00,  2.71it/s]"
          ]
        },
        {
          "output_type": "stream",
          "name": "stdout",
          "text": [
            "                   all         15         15      0.922      0.784      0.926      0.559\n"
          ]
        },
        {
          "output_type": "stream",
          "name": "stderr",
          "text": [
            "\n"
          ]
        },
        {
          "output_type": "stream",
          "name": "stdout",
          "text": [
            "\n",
            "      Epoch    GPU_mem   box_loss   cls_loss   dfl_loss  Instances       Size\n"
          ]
        },
        {
          "output_type": "stream",
          "name": "stderr",
          "text": [
            "     24/100      7.66G      1.097      0.722       1.43         16        640: 100%|██████████| 9/9 [00:04<00:00,  2.02it/s]\n",
            "                 Class     Images  Instances      Box(P          R      mAP50  mAP50-95): 100%|██████████| 1/1 [00:00<00:00,  4.55it/s]"
          ]
        },
        {
          "output_type": "stream",
          "name": "stdout",
          "text": [
            "                   all         15         15      0.165      0.933      0.176      0.124\n"
          ]
        },
        {
          "output_type": "stream",
          "name": "stderr",
          "text": [
            "\n"
          ]
        },
        {
          "output_type": "stream",
          "name": "stdout",
          "text": [
            "\n",
            "      Epoch    GPU_mem   box_loss   cls_loss   dfl_loss  Instances       Size\n"
          ]
        },
        {
          "output_type": "stream",
          "name": "stderr",
          "text": [
            "     25/100      7.61G     0.9991     0.6289      1.285         17        640: 100%|██████████| 9/9 [00:04<00:00,  2.08it/s]\n",
            "                 Class     Images  Instances      Box(P          R      mAP50  mAP50-95): 100%|██████████| 1/1 [00:00<00:00,  4.63it/s]"
          ]
        },
        {
          "output_type": "stream",
          "name": "stdout",
          "text": [
            "                   all         15         15      0.654          1      0.744      0.573\n"
          ]
        },
        {
          "output_type": "stream",
          "name": "stderr",
          "text": [
            "\n"
          ]
        },
        {
          "output_type": "stream",
          "name": "stdout",
          "text": [
            "\n",
            "      Epoch    GPU_mem   box_loss   cls_loss   dfl_loss  Instances       Size\n"
          ]
        },
        {
          "output_type": "stream",
          "name": "stderr",
          "text": [
            "     26/100      7.64G      1.043     0.6335      1.341         21        640: 100%|██████████| 9/9 [00:04<00:00,  1.97it/s]\n",
            "                 Class     Images  Instances      Box(P          R      mAP50  mAP50-95): 100%|██████████| 1/1 [00:00<00:00,  4.37it/s]"
          ]
        },
        {
          "output_type": "stream",
          "name": "stdout",
          "text": [
            "                   all         15         15      0.963          1      0.995      0.798\n"
          ]
        },
        {
          "output_type": "stream",
          "name": "stderr",
          "text": [
            "\n"
          ]
        },
        {
          "output_type": "stream",
          "name": "stdout",
          "text": [
            "\n",
            "      Epoch    GPU_mem   box_loss   cls_loss   dfl_loss  Instances       Size\n"
          ]
        },
        {
          "output_type": "stream",
          "name": "stderr",
          "text": [
            "     27/100      7.65G     0.9424     0.6008      1.247         19        640: 100%|██████████| 9/9 [00:04<00:00,  2.08it/s]\n",
            "                 Class     Images  Instances      Box(P          R      mAP50  mAP50-95): 100%|██████████| 1/1 [00:00<00:00,  4.29it/s]"
          ]
        },
        {
          "output_type": "stream",
          "name": "stdout",
          "text": [
            "                   all         15         15          1      0.991      0.995      0.808\n"
          ]
        },
        {
          "output_type": "stream",
          "name": "stderr",
          "text": [
            "\n"
          ]
        },
        {
          "output_type": "stream",
          "name": "stdout",
          "text": [
            "\n",
            "      Epoch    GPU_mem   box_loss   cls_loss   dfl_loss  Instances       Size\n"
          ]
        },
        {
          "output_type": "stream",
          "name": "stderr",
          "text": [
            "     28/100      7.63G      0.955     0.6424      1.264         19        640: 100%|██████████| 9/9 [00:04<00:00,  1.93it/s]\n",
            "                 Class     Images  Instances      Box(P          R      mAP50  mAP50-95): 100%|██████████| 1/1 [00:00<00:00,  2.82it/s]"
          ]
        },
        {
          "output_type": "stream",
          "name": "stdout",
          "text": [
            "                   all         15         15      0.992          1      0.995      0.741\n"
          ]
        },
        {
          "output_type": "stream",
          "name": "stderr",
          "text": [
            "\n"
          ]
        },
        {
          "output_type": "stream",
          "name": "stdout",
          "text": [
            "\n",
            "      Epoch    GPU_mem   box_loss   cls_loss   dfl_loss  Instances       Size\n"
          ]
        },
        {
          "output_type": "stream",
          "name": "stderr",
          "text": [
            "     29/100      7.61G      1.005     0.6395      1.281         17        640: 100%|██████████| 9/9 [00:04<00:00,  2.08it/s]\n",
            "                 Class     Images  Instances      Box(P          R      mAP50  mAP50-95): 100%|██████████| 1/1 [00:00<00:00,  4.41it/s]"
          ]
        },
        {
          "output_type": "stream",
          "name": "stdout",
          "text": [
            "                   all         15         15       0.99          1      0.995      0.759\n"
          ]
        },
        {
          "output_type": "stream",
          "name": "stderr",
          "text": [
            "\n"
          ]
        },
        {
          "output_type": "stream",
          "name": "stdout",
          "text": [
            "\n",
            "      Epoch    GPU_mem   box_loss   cls_loss   dfl_loss  Instances       Size\n"
          ]
        },
        {
          "output_type": "stream",
          "name": "stderr",
          "text": [
            "     30/100      7.64G      1.011     0.6212       1.32         21        640: 100%|██████████| 9/9 [00:04<00:00,  2.05it/s]\n",
            "                 Class     Images  Instances      Box(P          R      mAP50  mAP50-95): 100%|██████████| 1/1 [00:00<00:00,  2.59it/s]"
          ]
        },
        {
          "output_type": "stream",
          "name": "stdout",
          "text": [
            "                   all         15         15      0.679      0.986      0.947      0.701\n"
          ]
        },
        {
          "output_type": "stream",
          "name": "stderr",
          "text": [
            "\n"
          ]
        },
        {
          "output_type": "stream",
          "name": "stdout",
          "text": [
            "\n",
            "      Epoch    GPU_mem   box_loss   cls_loss   dfl_loss  Instances       Size\n"
          ]
        },
        {
          "output_type": "stream",
          "name": "stderr",
          "text": [
            "     31/100      7.65G      1.089     0.6598      1.345         15        640: 100%|██████████| 9/9 [00:04<00:00,  2.03it/s]\n",
            "                 Class     Images  Instances      Box(P          R      mAP50  mAP50-95): 100%|██████████| 1/1 [00:00<00:00,  4.56it/s]"
          ]
        },
        {
          "output_type": "stream",
          "name": "stdout",
          "text": [
            "                   all         15         15       0.02          1     0.0202     0.0139\n"
          ]
        },
        {
          "output_type": "stream",
          "name": "stderr",
          "text": [
            "\n"
          ]
        },
        {
          "output_type": "stream",
          "name": "stdout",
          "text": [
            "\n",
            "      Epoch    GPU_mem   box_loss   cls_loss   dfl_loss  Instances       Size\n"
          ]
        },
        {
          "output_type": "stream",
          "name": "stderr",
          "text": [
            "     32/100      7.64G       1.05     0.6566      1.358         18        640: 100%|██████████| 9/9 [00:04<00:00,  2.04it/s]\n",
            "                 Class     Images  Instances      Box(P          R      mAP50  mAP50-95): 100%|██████████| 1/1 [00:00<00:00,  4.50it/s]"
          ]
        },
        {
          "output_type": "stream",
          "name": "stdout",
          "text": [
            "                   all         15         15     0.0344      0.933     0.0345      0.022\n"
          ]
        },
        {
          "output_type": "stream",
          "name": "stderr",
          "text": [
            "\n"
          ]
        },
        {
          "output_type": "stream",
          "name": "stdout",
          "text": [
            "\n",
            "      Epoch    GPU_mem   box_loss   cls_loss   dfl_loss  Instances       Size\n"
          ]
        },
        {
          "output_type": "stream",
          "name": "stderr",
          "text": [
            "     33/100      7.61G     0.9974     0.6616      1.278         11        640: 100%|██████████| 9/9 [00:04<00:00,  1.91it/s]\n",
            "                 Class     Images  Instances      Box(P          R      mAP50  mAP50-95): 100%|██████████| 1/1 [00:00<00:00,  3.96it/s]"
          ]
        },
        {
          "output_type": "stream",
          "name": "stdout",
          "text": [
            "                   all         15         15      0.323        0.6      0.421       0.32\n"
          ]
        },
        {
          "output_type": "stream",
          "name": "stderr",
          "text": [
            "\n"
          ]
        },
        {
          "output_type": "stream",
          "name": "stdout",
          "text": [
            "\n",
            "      Epoch    GPU_mem   box_loss   cls_loss   dfl_loss  Instances       Size\n"
          ]
        },
        {
          "output_type": "stream",
          "name": "stderr",
          "text": [
            "     34/100      7.63G     0.9623     0.6073      1.291         19        640: 100%|██████████| 9/9 [00:04<00:00,  2.06it/s]\n",
            "                 Class     Images  Instances      Box(P          R      mAP50  mAP50-95): 100%|██████████| 1/1 [00:00<00:00,  4.18it/s]"
          ]
        },
        {
          "output_type": "stream",
          "name": "stdout",
          "text": [
            "                   all         15         15          1      0.997      0.995      0.681\n"
          ]
        },
        {
          "output_type": "stream",
          "name": "stderr",
          "text": [
            "\n"
          ]
        },
        {
          "output_type": "stream",
          "name": "stdout",
          "text": [
            "\n",
            "      Epoch    GPU_mem   box_loss   cls_loss   dfl_loss  Instances       Size\n"
          ]
        },
        {
          "output_type": "stream",
          "name": "stderr",
          "text": [
            "     35/100      7.65G     0.9422      0.587      1.254         13        640: 100%|██████████| 9/9 [00:04<00:00,  2.01it/s]\n",
            "                 Class     Images  Instances      Box(P          R      mAP50  mAP50-95): 100%|██████████| 1/1 [00:00<00:00,  2.74it/s]"
          ]
        },
        {
          "output_type": "stream",
          "name": "stdout",
          "text": [
            "                   all         15         15      0.989          1      0.995      0.775\n"
          ]
        },
        {
          "output_type": "stream",
          "name": "stderr",
          "text": [
            "\n"
          ]
        },
        {
          "output_type": "stream",
          "name": "stdout",
          "text": [
            "\n",
            "      Epoch    GPU_mem   box_loss   cls_loss   dfl_loss  Instances       Size\n"
          ]
        },
        {
          "output_type": "stream",
          "name": "stderr",
          "text": [
            "     36/100      7.66G     0.9295     0.5864      1.277         21        640: 100%|██████████| 9/9 [00:04<00:00,  1.99it/s]\n",
            "                 Class     Images  Instances      Box(P          R      mAP50  mAP50-95): 100%|██████████| 1/1 [00:00<00:00,  4.49it/s]"
          ]
        },
        {
          "output_type": "stream",
          "name": "stdout",
          "text": [
            "                   all         15         15      0.992          1      0.995      0.868\n"
          ]
        },
        {
          "output_type": "stream",
          "name": "stderr",
          "text": [
            "\n"
          ]
        },
        {
          "output_type": "stream",
          "name": "stdout",
          "text": [
            "\n",
            "      Epoch    GPU_mem   box_loss   cls_loss   dfl_loss  Instances       Size\n"
          ]
        },
        {
          "output_type": "stream",
          "name": "stderr",
          "text": [
            "     37/100      7.61G      1.001     0.6027      1.332         16        640: 100%|██████████| 9/9 [00:04<00:00,  2.06it/s]\n",
            "                 Class     Images  Instances      Box(P          R      mAP50  mAP50-95): 100%|██████████| 1/1 [00:00<00:00,  4.30it/s]"
          ]
        },
        {
          "output_type": "stream",
          "name": "stdout",
          "text": [
            "                   all         15         15      0.994          1      0.995      0.823\n"
          ]
        },
        {
          "output_type": "stream",
          "name": "stderr",
          "text": [
            "\n"
          ]
        },
        {
          "output_type": "stream",
          "name": "stdout",
          "text": [
            "\n",
            "      Epoch    GPU_mem   box_loss   cls_loss   dfl_loss  Instances       Size\n"
          ]
        },
        {
          "output_type": "stream",
          "name": "stderr",
          "text": [
            "     38/100      7.64G     0.9785     0.5639      1.253         12        640: 100%|██████████| 9/9 [00:04<00:00,  1.95it/s]\n",
            "                 Class     Images  Instances      Box(P          R      mAP50  mAP50-95): 100%|██████████| 1/1 [00:00<00:00,  4.58it/s]"
          ]
        },
        {
          "output_type": "stream",
          "name": "stdout",
          "text": [
            "                   all         15         15      0.993          1      0.995      0.824\n"
          ]
        },
        {
          "output_type": "stream",
          "name": "stderr",
          "text": [
            "\n"
          ]
        },
        {
          "output_type": "stream",
          "name": "stdout",
          "text": [
            "\n",
            "      Epoch    GPU_mem   box_loss   cls_loss   dfl_loss  Instances       Size\n"
          ]
        },
        {
          "output_type": "stream",
          "name": "stderr",
          "text": [
            "     39/100      7.65G     0.9061     0.5382      1.228         17        640: 100%|██████████| 9/9 [00:04<00:00,  2.07it/s]\n",
            "                 Class     Images  Instances      Box(P          R      mAP50  mAP50-95): 100%|██████████| 1/1 [00:00<00:00,  4.37it/s]"
          ]
        },
        {
          "output_type": "stream",
          "name": "stdout",
          "text": [
            "                   all         15         15      0.992          1      0.995      0.828\n"
          ]
        },
        {
          "output_type": "stream",
          "name": "stderr",
          "text": [
            "\n"
          ]
        },
        {
          "output_type": "stream",
          "name": "stdout",
          "text": [
            "\n",
            "      Epoch    GPU_mem   box_loss   cls_loss   dfl_loss  Instances       Size\n"
          ]
        },
        {
          "output_type": "stream",
          "name": "stderr",
          "text": [
            "     40/100      7.65G     0.9313     0.5868      1.258         15        640: 100%|██████████| 9/9 [00:04<00:00,  1.97it/s]\n",
            "                 Class     Images  Instances      Box(P          R      mAP50  mAP50-95): 100%|██████████| 1/1 [00:00<00:00,  2.90it/s]"
          ]
        },
        {
          "output_type": "stream",
          "name": "stdout",
          "text": [
            "                   all         15         15      0.992          1      0.995      0.798\n"
          ]
        },
        {
          "output_type": "stream",
          "name": "stderr",
          "text": [
            "\n"
          ]
        },
        {
          "output_type": "stream",
          "name": "stdout",
          "text": [
            "\n",
            "      Epoch    GPU_mem   box_loss   cls_loss   dfl_loss  Instances       Size\n"
          ]
        },
        {
          "output_type": "stream",
          "name": "stderr",
          "text": [
            "     41/100      7.62G     0.9575     0.5776      1.309         10        640: 100%|██████████| 9/9 [00:04<00:00,  2.08it/s]\n",
            "                 Class     Images  Instances      Box(P          R      mAP50  mAP50-95): 100%|██████████| 1/1 [00:00<00:00,  4.19it/s]"
          ]
        },
        {
          "output_type": "stream",
          "name": "stdout",
          "text": [
            "                   all         15         15      0.992          1      0.995      0.783\n"
          ]
        },
        {
          "output_type": "stream",
          "name": "stderr",
          "text": [
            "\n"
          ]
        },
        {
          "output_type": "stream",
          "name": "stdout",
          "text": [
            "\n",
            "      Epoch    GPU_mem   box_loss   cls_loss   dfl_loss  Instances       Size\n"
          ]
        },
        {
          "output_type": "stream",
          "name": "stderr",
          "text": [
            "     42/100      7.63G     0.9257     0.5342      1.266         14        640: 100%|██████████| 9/9 [00:04<00:00,  2.07it/s]\n",
            "                 Class     Images  Instances      Box(P          R      mAP50  mAP50-95): 100%|██████████| 1/1 [00:00<00:00,  3.89it/s]"
          ]
        },
        {
          "output_type": "stream",
          "name": "stdout",
          "text": [
            "                   all         15         15      0.994          1      0.995      0.772\n"
          ]
        },
        {
          "output_type": "stream",
          "name": "stderr",
          "text": [
            "\n"
          ]
        },
        {
          "output_type": "stream",
          "name": "stdout",
          "text": [
            "\n",
            "      Epoch    GPU_mem   box_loss   cls_loss   dfl_loss  Instances       Size\n"
          ]
        },
        {
          "output_type": "stream",
          "name": "stderr",
          "text": [
            "     43/100      7.65G     0.9257     0.5366      1.242         18        640: 100%|██████████| 9/9 [00:04<00:00,  1.95it/s]\n",
            "                 Class     Images  Instances      Box(P          R      mAP50  mAP50-95): 100%|██████████| 1/1 [00:00<00:00,  4.34it/s]"
          ]
        },
        {
          "output_type": "stream",
          "name": "stdout",
          "text": [
            "                   all         15         15      0.995          1      0.995      0.792\n"
          ]
        },
        {
          "output_type": "stream",
          "name": "stderr",
          "text": [
            "\n"
          ]
        },
        {
          "output_type": "stream",
          "name": "stdout",
          "text": [
            "\n",
            "      Epoch    GPU_mem   box_loss   cls_loss   dfl_loss  Instances       Size\n"
          ]
        },
        {
          "output_type": "stream",
          "name": "stderr",
          "text": [
            "     44/100      7.66G     0.8744     0.5058      1.228         17        640: 100%|██████████| 9/9 [00:04<00:00,  2.03it/s]\n",
            "                 Class     Images  Instances      Box(P          R      mAP50  mAP50-95): 100%|██████████| 1/1 [00:00<00:00,  4.52it/s]"
          ]
        },
        {
          "output_type": "stream",
          "name": "stdout",
          "text": [
            "                   all         15         15      0.994          1      0.995      0.803\n"
          ]
        },
        {
          "output_type": "stream",
          "name": "stderr",
          "text": [
            "\n"
          ]
        },
        {
          "output_type": "stream",
          "name": "stdout",
          "text": [
            "\n",
            "      Epoch    GPU_mem   box_loss   cls_loss   dfl_loss  Instances       Size\n"
          ]
        },
        {
          "output_type": "stream",
          "name": "stderr",
          "text": [
            "     45/100      7.61G     0.9331     0.5138      1.237         10        640: 100%|██████████| 9/9 [00:04<00:00,  1.92it/s]\n",
            "                 Class     Images  Instances      Box(P          R      mAP50  mAP50-95): 100%|██████████| 1/1 [00:00<00:00,  3.05it/s]"
          ]
        },
        {
          "output_type": "stream",
          "name": "stdout",
          "text": [
            "                   all         15         15      0.995          1      0.995      0.834\n"
          ]
        },
        {
          "output_type": "stream",
          "name": "stderr",
          "text": [
            "\n"
          ]
        },
        {
          "output_type": "stream",
          "name": "stdout",
          "text": [
            "\n",
            "      Epoch    GPU_mem   box_loss   cls_loss   dfl_loss  Instances       Size\n"
          ]
        },
        {
          "output_type": "stream",
          "name": "stderr",
          "text": [
            "     46/100      7.64G       0.92     0.5235      1.243         17        640: 100%|██████████| 9/9 [00:04<00:00,  2.07it/s]\n",
            "                 Class     Images  Instances      Box(P          R      mAP50  mAP50-95): 100%|██████████| 1/1 [00:00<00:00,  4.50it/s]"
          ]
        },
        {
          "output_type": "stream",
          "name": "stdout",
          "text": [
            "                   all         15         15      0.996          1      0.995      0.827\n"
          ]
        },
        {
          "output_type": "stream",
          "name": "stderr",
          "text": [
            "\n"
          ]
        },
        {
          "output_type": "stream",
          "name": "stdout",
          "text": [
            "\n",
            "      Epoch    GPU_mem   box_loss   cls_loss   dfl_loss  Instances       Size\n"
          ]
        },
        {
          "output_type": "stream",
          "name": "stderr",
          "text": [
            "     47/100      7.64G     0.9438     0.5342      1.262         15        640: 100%|██████████| 9/9 [00:04<00:00,  2.02it/s]\n",
            "                 Class     Images  Instances      Box(P          R      mAP50  mAP50-95): 100%|██████████| 1/1 [00:00<00:00,  3.15it/s]"
          ]
        },
        {
          "output_type": "stream",
          "name": "stdout",
          "text": [
            "                   all         15         15      0.996          1      0.995      0.813\n"
          ]
        },
        {
          "output_type": "stream",
          "name": "stderr",
          "text": [
            "\n"
          ]
        },
        {
          "output_type": "stream",
          "name": "stdout",
          "text": [
            "\n",
            "      Epoch    GPU_mem   box_loss   cls_loss   dfl_loss  Instances       Size\n"
          ]
        },
        {
          "output_type": "stream",
          "name": "stderr",
          "text": [
            "     48/100      7.65G     0.8677     0.4963      1.232         20        640: 100%|██████████| 9/9 [00:04<00:00,  2.00it/s]\n",
            "                 Class     Images  Instances      Box(P          R      mAP50  mAP50-95): 100%|██████████| 1/1 [00:00<00:00,  4.72it/s]"
          ]
        },
        {
          "output_type": "stream",
          "name": "stdout",
          "text": [
            "                   all         15         15      0.995          1      0.995      0.829\n"
          ]
        },
        {
          "output_type": "stream",
          "name": "stderr",
          "text": [
            "\n"
          ]
        },
        {
          "output_type": "stream",
          "name": "stdout",
          "text": [
            "\n",
            "      Epoch    GPU_mem   box_loss   cls_loss   dfl_loss  Instances       Size\n"
          ]
        },
        {
          "output_type": "stream",
          "name": "stderr",
          "text": [
            "     49/100      7.62G      0.922     0.5226      1.219         20        640: 100%|██████████| 9/9 [00:04<00:00,  2.06it/s]\n",
            "                 Class     Images  Instances      Box(P          R      mAP50  mAP50-95): 100%|██████████| 1/1 [00:00<00:00,  4.48it/s]"
          ]
        },
        {
          "output_type": "stream",
          "name": "stdout",
          "text": [
            "                   all         15         15      0.997          1      0.995      0.844\n"
          ]
        },
        {
          "output_type": "stream",
          "name": "stderr",
          "text": [
            "\n"
          ]
        },
        {
          "output_type": "stream",
          "name": "stdout",
          "text": [
            "\n",
            "      Epoch    GPU_mem   box_loss   cls_loss   dfl_loss  Instances       Size\n"
          ]
        },
        {
          "output_type": "stream",
          "name": "stderr",
          "text": [
            "     50/100      7.64G     0.8498     0.4981      1.179         13        640: 100%|██████████| 9/9 [00:04<00:00,  1.92it/s]\n",
            "                 Class     Images  Instances      Box(P          R      mAP50  mAP50-95): 100%|██████████| 1/1 [00:00<00:00,  3.95it/s]"
          ]
        },
        {
          "output_type": "stream",
          "name": "stdout",
          "text": [
            "                   all         15         15      0.997          1      0.995      0.837\n"
          ]
        },
        {
          "output_type": "stream",
          "name": "stderr",
          "text": [
            "\n"
          ]
        },
        {
          "output_type": "stream",
          "name": "stdout",
          "text": [
            "\n",
            "      Epoch    GPU_mem   box_loss   cls_loss   dfl_loss  Instances       Size\n"
          ]
        },
        {
          "output_type": "stream",
          "name": "stderr",
          "text": [
            "     51/100      7.65G     0.8823     0.5082      1.241         10        640: 100%|██████████| 9/9 [00:04<00:00,  2.06it/s]\n",
            "                 Class     Images  Instances      Box(P          R      mAP50  mAP50-95): 100%|██████████| 1/1 [00:00<00:00,  4.46it/s]"
          ]
        },
        {
          "output_type": "stream",
          "name": "stdout",
          "text": [
            "                   all         15         15      0.996          1      0.995      0.854\n"
          ]
        },
        {
          "output_type": "stream",
          "name": "stderr",
          "text": [
            "\n"
          ]
        },
        {
          "output_type": "stream",
          "name": "stdout",
          "text": [
            "\n",
            "      Epoch    GPU_mem   box_loss   cls_loss   dfl_loss  Instances       Size\n"
          ]
        },
        {
          "output_type": "stream",
          "name": "stderr",
          "text": [
            "     52/100      7.66G     0.8673     0.4841      1.199         15        640: 100%|██████████| 9/9 [00:04<00:00,  1.99it/s]\n",
            "                 Class     Images  Instances      Box(P          R      mAP50  mAP50-95): 100%|██████████| 1/1 [00:00<00:00,  3.01it/s]"
          ]
        },
        {
          "output_type": "stream",
          "name": "stdout",
          "text": [
            "                   all         15         15      0.996          1      0.995      0.876\n"
          ]
        },
        {
          "output_type": "stream",
          "name": "stderr",
          "text": [
            "\n"
          ]
        },
        {
          "output_type": "stream",
          "name": "stdout",
          "text": [
            "\n",
            "      Epoch    GPU_mem   box_loss   cls_loss   dfl_loss  Instances       Size\n"
          ]
        },
        {
          "output_type": "stream",
          "name": "stderr",
          "text": [
            "     53/100      7.61G     0.8971     0.4938      1.237         12        640: 100%|██████████| 9/9 [00:04<00:00,  2.00it/s]\n",
            "                 Class     Images  Instances      Box(P          R      mAP50  mAP50-95): 100%|██████████| 1/1 [00:00<00:00,  4.31it/s]"
          ]
        },
        {
          "output_type": "stream",
          "name": "stdout",
          "text": [
            "                   all         15         15      0.996          1      0.995      0.869\n"
          ]
        },
        {
          "output_type": "stream",
          "name": "stderr",
          "text": [
            "\n"
          ]
        },
        {
          "output_type": "stream",
          "name": "stdout",
          "text": [
            "\n",
            "      Epoch    GPU_mem   box_loss   cls_loss   dfl_loss  Instances       Size\n"
          ]
        },
        {
          "output_type": "stream",
          "name": "stderr",
          "text": [
            "     54/100      7.64G     0.8575     0.4657      1.217         17        640: 100%|██████████| 9/9 [00:04<00:00,  2.07it/s]\n",
            "                 Class     Images  Instances      Box(P          R      mAP50  mAP50-95): 100%|██████████| 1/1 [00:00<00:00,  4.37it/s]"
          ]
        },
        {
          "output_type": "stream",
          "name": "stdout",
          "text": [
            "                   all         15         15      0.996          1      0.995      0.847\n"
          ]
        },
        {
          "output_type": "stream",
          "name": "stderr",
          "text": [
            "\n"
          ]
        },
        {
          "output_type": "stream",
          "name": "stdout",
          "text": [
            "\n",
            "      Epoch    GPU_mem   box_loss   cls_loss   dfl_loss  Instances       Size\n"
          ]
        },
        {
          "output_type": "stream",
          "name": "stderr",
          "text": [
            "     55/100      7.64G     0.8741     0.5116      1.193         18        640: 100%|██████████| 9/9 [00:04<00:00,  1.93it/s]\n",
            "                 Class     Images  Instances      Box(P          R      mAP50  mAP50-95): 100%|██████████| 1/1 [00:00<00:00,  4.12it/s]"
          ]
        },
        {
          "output_type": "stream",
          "name": "stdout",
          "text": [
            "                   all         15         15      0.996          1      0.995      0.848\n"
          ]
        },
        {
          "output_type": "stream",
          "name": "stderr",
          "text": [
            "\n"
          ]
        },
        {
          "output_type": "stream",
          "name": "stdout",
          "text": [
            "\n",
            "      Epoch    GPU_mem   box_loss   cls_loss   dfl_loss  Instances       Size\n"
          ]
        },
        {
          "output_type": "stream",
          "name": "stderr",
          "text": [
            "     56/100      7.65G     0.8389     0.5034      1.183         20        640: 100%|██████████| 9/9 [00:04<00:00,  2.03it/s]\n",
            "                 Class     Images  Instances      Box(P          R      mAP50  mAP50-95): 100%|██████████| 1/1 [00:00<00:00,  4.63it/s]"
          ]
        },
        {
          "output_type": "stream",
          "name": "stdout",
          "text": [
            "                   all         15         15      0.991          1      0.995      0.831\n"
          ]
        },
        {
          "output_type": "stream",
          "name": "stderr",
          "text": [
            "\n"
          ]
        },
        {
          "output_type": "stream",
          "name": "stdout",
          "text": [
            "\n",
            "      Epoch    GPU_mem   box_loss   cls_loss   dfl_loss  Instances       Size\n"
          ]
        },
        {
          "output_type": "stream",
          "name": "stderr",
          "text": [
            "     57/100      7.62G     0.8315     0.4763      1.174         15        640: 100%|██████████| 9/9 [00:04<00:00,  2.00it/s]\n",
            "                 Class     Images  Instances      Box(P          R      mAP50  mAP50-95): 100%|██████████| 1/1 [00:00<00:00,  2.64it/s]"
          ]
        },
        {
          "output_type": "stream",
          "name": "stdout",
          "text": [
            "                   all         15         15      0.991          1      0.995      0.828\n"
          ]
        },
        {
          "output_type": "stream",
          "name": "stderr",
          "text": [
            "\n"
          ]
        },
        {
          "output_type": "stream",
          "name": "stdout",
          "text": [
            "\n",
            "      Epoch    GPU_mem   box_loss   cls_loss   dfl_loss  Instances       Size\n"
          ]
        },
        {
          "output_type": "stream",
          "name": "stderr",
          "text": [
            "     58/100      7.64G     0.9664     0.5344      1.271         18        640: 100%|██████████| 9/9 [00:04<00:00,  2.04it/s]\n",
            "                 Class     Images  Instances      Box(P          R      mAP50  mAP50-95): 100%|██████████| 1/1 [00:00<00:00,  4.43it/s]"
          ]
        },
        {
          "output_type": "stream",
          "name": "stdout",
          "text": [
            "                   all         15         15      0.995          1      0.995      0.832\n"
          ]
        },
        {
          "output_type": "stream",
          "name": "stderr",
          "text": [
            "\n"
          ]
        },
        {
          "output_type": "stream",
          "name": "stdout",
          "text": [
            "\n",
            "      Epoch    GPU_mem   box_loss   cls_loss   dfl_loss  Instances       Size\n"
          ]
        },
        {
          "output_type": "stream",
          "name": "stderr",
          "text": [
            "     59/100      7.65G     0.9363     0.5112      1.281         15        640: 100%|██████████| 9/9 [00:04<00:00,  2.07it/s]\n",
            "                 Class     Images  Instances      Box(P          R      mAP50  mAP50-95): 100%|██████████| 1/1 [00:00<00:00,  4.29it/s]"
          ]
        },
        {
          "output_type": "stream",
          "name": "stdout",
          "text": [
            "                   all         15         15      0.996          1      0.995      0.842\n"
          ]
        },
        {
          "output_type": "stream",
          "name": "stderr",
          "text": [
            "\n"
          ]
        },
        {
          "output_type": "stream",
          "name": "stdout",
          "text": [
            "\n",
            "      Epoch    GPU_mem   box_loss   cls_loss   dfl_loss  Instances       Size\n"
          ]
        },
        {
          "output_type": "stream",
          "name": "stderr",
          "text": [
            "     60/100      7.63G     0.8306     0.4955      1.163         19        640: 100%|██████████| 9/9 [00:04<00:00,  1.91it/s]\n",
            "                 Class     Images  Instances      Box(P          R      mAP50  mAP50-95): 100%|██████████| 1/1 [00:00<00:00,  4.49it/s]"
          ]
        },
        {
          "output_type": "stream",
          "name": "stdout",
          "text": [
            "                   all         15         15      0.996          1      0.995      0.818\n"
          ]
        },
        {
          "output_type": "stream",
          "name": "stderr",
          "text": [
            "\n"
          ]
        },
        {
          "output_type": "stream",
          "name": "stdout",
          "text": [
            "\n",
            "      Epoch    GPU_mem   box_loss   cls_loss   dfl_loss  Instances       Size\n"
          ]
        },
        {
          "output_type": "stream",
          "name": "stderr",
          "text": [
            "     61/100      7.62G     0.8678     0.5104      1.202         20        640: 100%|██████████| 9/9 [00:04<00:00,  2.07it/s]\n",
            "                 Class     Images  Instances      Box(P          R      mAP50  mAP50-95): 100%|██████████| 1/1 [00:00<00:00,  4.33it/s]"
          ]
        },
        {
          "output_type": "stream",
          "name": "stdout",
          "text": [
            "                   all         15         15      0.996          1      0.995      0.833\n"
          ]
        },
        {
          "output_type": "stream",
          "name": "stderr",
          "text": [
            "\n"
          ]
        },
        {
          "output_type": "stream",
          "name": "stdout",
          "text": [
            "\n",
            "      Epoch    GPU_mem   box_loss   cls_loss   dfl_loss  Instances       Size\n"
          ]
        },
        {
          "output_type": "stream",
          "name": "stderr",
          "text": [
            "     62/100      7.63G     0.8876     0.5079      1.239         18        640: 100%|██████████| 9/9 [00:04<00:00,  1.98it/s]\n",
            "                 Class     Images  Instances      Box(P          R      mAP50  mAP50-95): 100%|██████████| 1/1 [00:00<00:00,  3.00it/s]"
          ]
        },
        {
          "output_type": "stream",
          "name": "stdout",
          "text": [
            "                   all         15         15      0.995          1      0.995      0.824\n"
          ]
        },
        {
          "output_type": "stream",
          "name": "stderr",
          "text": [
            "\n"
          ]
        },
        {
          "output_type": "stream",
          "name": "stdout",
          "text": [
            "\n",
            "      Epoch    GPU_mem   box_loss   cls_loss   dfl_loss  Instances       Size\n"
          ]
        },
        {
          "output_type": "stream",
          "name": "stderr",
          "text": [
            "     63/100      7.66G     0.8653     0.4835      1.185         18        640: 100%|██████████| 9/9 [00:04<00:00,  2.06it/s]\n",
            "                 Class     Images  Instances      Box(P          R      mAP50  mAP50-95): 100%|██████████| 1/1 [00:00<00:00,  4.01it/s]"
          ]
        },
        {
          "output_type": "stream",
          "name": "stdout",
          "text": [
            "                   all         15         15      0.994          1      0.995      0.817\n"
          ]
        },
        {
          "output_type": "stream",
          "name": "stderr",
          "text": [
            "\n"
          ]
        },
        {
          "output_type": "stream",
          "name": "stdout",
          "text": [
            "\n",
            "      Epoch    GPU_mem   box_loss   cls_loss   dfl_loss  Instances       Size\n"
          ]
        },
        {
          "output_type": "stream",
          "name": "stderr",
          "text": [
            "     64/100      7.65G     0.8904     0.5435      1.218         12        640: 100%|██████████| 9/9 [00:04<00:00,  2.00it/s]\n",
            "                 Class     Images  Instances      Box(P          R      mAP50  mAP50-95): 100%|██████████| 1/1 [00:00<00:00,  4.05it/s]"
          ]
        },
        {
          "output_type": "stream",
          "name": "stdout",
          "text": [
            "                   all         15         15      0.996          1      0.995      0.834\n"
          ]
        },
        {
          "output_type": "stream",
          "name": "stderr",
          "text": [
            "\n"
          ]
        },
        {
          "output_type": "stream",
          "name": "stdout",
          "text": [
            "\n",
            "      Epoch    GPU_mem   box_loss   cls_loss   dfl_loss  Instances       Size\n"
          ]
        },
        {
          "output_type": "stream",
          "name": "stderr",
          "text": [
            "     65/100      7.61G     0.8351     0.4819      1.208         18        640: 100%|██████████| 9/9 [00:04<00:00,  1.96it/s]\n",
            "                 Class     Images  Instances      Box(P          R      mAP50  mAP50-95): 100%|██████████| 1/1 [00:00<00:00,  4.29it/s]"
          ]
        },
        {
          "output_type": "stream",
          "name": "stdout",
          "text": [
            "                   all         15         15      0.996          1      0.995      0.836\n"
          ]
        },
        {
          "output_type": "stream",
          "name": "stderr",
          "text": [
            "\n"
          ]
        },
        {
          "output_type": "stream",
          "name": "stdout",
          "text": [
            "\n",
            "      Epoch    GPU_mem   box_loss   cls_loss   dfl_loss  Instances       Size\n"
          ]
        },
        {
          "output_type": "stream",
          "name": "stderr",
          "text": [
            "     66/100      7.62G     0.8792     0.4778       1.21         17        640: 100%|██████████| 9/9 [00:04<00:00,  2.06it/s]\n",
            "                 Class     Images  Instances      Box(P          R      mAP50  mAP50-95): 100%|██████████| 1/1 [00:00<00:00,  4.23it/s]"
          ]
        },
        {
          "output_type": "stream",
          "name": "stdout",
          "text": [
            "                   all         15         15      0.996          1      0.995      0.841\n"
          ]
        },
        {
          "output_type": "stream",
          "name": "stderr",
          "text": [
            "\n"
          ]
        },
        {
          "output_type": "stream",
          "name": "stdout",
          "text": [
            "\n",
            "      Epoch    GPU_mem   box_loss   cls_loss   dfl_loss  Instances       Size\n"
          ]
        },
        {
          "output_type": "stream",
          "name": "stderr",
          "text": [
            "     67/100      7.65G     0.8155     0.4635      1.187         15        640: 100%|██████████| 9/9 [00:04<00:00,  1.92it/s]\n",
            "                 Class     Images  Instances      Box(P          R      mAP50  mAP50-95): 100%|██████████| 1/1 [00:00<00:00,  2.63it/s]"
          ]
        },
        {
          "output_type": "stream",
          "name": "stdout",
          "text": [
            "                   all         15         15      0.996          1      0.995      0.809\n"
          ]
        },
        {
          "output_type": "stream",
          "name": "stderr",
          "text": [
            "\n"
          ]
        },
        {
          "output_type": "stream",
          "name": "stdout",
          "text": [
            "\n",
            "      Epoch    GPU_mem   box_loss   cls_loss   dfl_loss  Instances       Size\n"
          ]
        },
        {
          "output_type": "stream",
          "name": "stderr",
          "text": [
            "     68/100      7.66G     0.8274     0.4651      1.197         16        640: 100%|██████████| 9/9 [00:04<00:00,  2.02it/s]\n",
            "                 Class     Images  Instances      Box(P          R      mAP50  mAP50-95): 100%|██████████| 1/1 [00:00<00:00,  4.48it/s]"
          ]
        },
        {
          "output_type": "stream",
          "name": "stdout",
          "text": [
            "                   all         15         15      0.994          1      0.995      0.852\n"
          ]
        },
        {
          "output_type": "stream",
          "name": "stderr",
          "text": [
            "\n"
          ]
        },
        {
          "output_type": "stream",
          "name": "stdout",
          "text": [
            "\n",
            "      Epoch    GPU_mem   box_loss   cls_loss   dfl_loss  Instances       Size\n"
          ]
        },
        {
          "output_type": "stream",
          "name": "stderr",
          "text": [
            "     69/100      7.62G     0.8294     0.4539      1.198         13        640: 100%|██████████| 9/9 [00:04<00:00,  2.05it/s]\n",
            "                 Class     Images  Instances      Box(P          R      mAP50  mAP50-95): 100%|██████████| 1/1 [00:00<00:00,  2.79it/s]"
          ]
        },
        {
          "output_type": "stream",
          "name": "stdout",
          "text": [
            "                   all         15         15      0.991          1      0.995      0.839\n"
          ]
        },
        {
          "output_type": "stream",
          "name": "stderr",
          "text": [
            "\n"
          ]
        },
        {
          "output_type": "stream",
          "name": "stdout",
          "text": [
            "\n",
            "      Epoch    GPU_mem   box_loss   cls_loss   dfl_loss  Instances       Size\n"
          ]
        },
        {
          "output_type": "stream",
          "name": "stderr",
          "text": [
            "     70/100      7.63G      0.838     0.4589      1.185         15        640: 100%|██████████| 9/9 [00:04<00:00,  1.99it/s]\n",
            "                 Class     Images  Instances      Box(P          R      mAP50  mAP50-95): 100%|██████████| 1/1 [00:00<00:00,  4.12it/s]"
          ]
        },
        {
          "output_type": "stream",
          "name": "stdout",
          "text": [
            "                   all         15         15      0.996          1      0.995      0.825\n"
          ]
        },
        {
          "output_type": "stream",
          "name": "stderr",
          "text": [
            "\n"
          ]
        },
        {
          "output_type": "stream",
          "name": "stdout",
          "text": [
            "\n",
            "      Epoch    GPU_mem   box_loss   cls_loss   dfl_loss  Instances       Size\n"
          ]
        },
        {
          "output_type": "stream",
          "name": "stderr",
          "text": [
            "     71/100      7.65G     0.8205     0.4402      1.195         18        640: 100%|██████████| 9/9 [00:04<00:00,  2.06it/s]\n",
            "                 Class     Images  Instances      Box(P          R      mAP50  mAP50-95): 100%|██████████| 1/1 [00:00<00:00,  4.50it/s]"
          ]
        },
        {
          "output_type": "stream",
          "name": "stdout",
          "text": [
            "                   all         15         15      0.996          1      0.995      0.856\n"
          ]
        },
        {
          "output_type": "stream",
          "name": "stderr",
          "text": [
            "\n"
          ]
        },
        {
          "output_type": "stream",
          "name": "stdout",
          "text": [
            "\n",
            "      Epoch    GPU_mem   box_loss   cls_loss   dfl_loss  Instances       Size\n"
          ]
        },
        {
          "output_type": "stream",
          "name": "stderr",
          "text": [
            "     72/100      7.65G     0.8272     0.4876      1.205         20        640: 100%|██████████| 9/9 [00:04<00:00,  1.89it/s]\n",
            "                 Class     Images  Instances      Box(P          R      mAP50  mAP50-95): 100%|██████████| 1/1 [00:00<00:00,  4.04it/s]"
          ]
        },
        {
          "output_type": "stream",
          "name": "stdout",
          "text": [
            "                   all         15         15      0.995          1      0.995      0.848\n"
          ]
        },
        {
          "output_type": "stream",
          "name": "stderr",
          "text": [
            "\n"
          ]
        },
        {
          "output_type": "stream",
          "name": "stdout",
          "text": [
            "\n",
            "      Epoch    GPU_mem   box_loss   cls_loss   dfl_loss  Instances       Size\n"
          ]
        },
        {
          "output_type": "stream",
          "name": "stderr",
          "text": [
            "     73/100      7.62G     0.7942     0.4363      1.148         21        640: 100%|██████████| 9/9 [00:04<00:00,  2.07it/s]\n",
            "                 Class     Images  Instances      Box(P          R      mAP50  mAP50-95): 100%|██████████| 1/1 [00:00<00:00,  4.15it/s]"
          ]
        },
        {
          "output_type": "stream",
          "name": "stdout",
          "text": [
            "                   all         15         15      0.996          1      0.995      0.813\n"
          ]
        },
        {
          "output_type": "stream",
          "name": "stderr",
          "text": [
            "\n"
          ]
        },
        {
          "output_type": "stream",
          "name": "stdout",
          "text": [
            "\n",
            "      Epoch    GPU_mem   box_loss   cls_loss   dfl_loss  Instances       Size\n"
          ]
        },
        {
          "output_type": "stream",
          "name": "stderr",
          "text": [
            "     74/100      7.63G     0.8013     0.4404      1.154         21        640: 100%|██████████| 9/9 [00:04<00:00,  2.00it/s]\n",
            "                 Class     Images  Instances      Box(P          R      mAP50  mAP50-95): 100%|██████████| 1/1 [00:00<00:00,  2.20it/s]"
          ]
        },
        {
          "output_type": "stream",
          "name": "stdout",
          "text": [
            "                   all         15         15      0.996          1      0.995      0.813\n"
          ]
        },
        {
          "output_type": "stream",
          "name": "stderr",
          "text": [
            "\n"
          ]
        },
        {
          "output_type": "stream",
          "name": "stdout",
          "text": [
            "\n",
            "      Epoch    GPU_mem   box_loss   cls_loss   dfl_loss  Instances       Size\n"
          ]
        },
        {
          "output_type": "stream",
          "name": "stderr",
          "text": [
            "     75/100      7.65G     0.8054     0.4546      1.176         12        640: 100%|██████████| 9/9 [00:04<00:00,  2.02it/s]\n",
            "                 Class     Images  Instances      Box(P          R      mAP50  mAP50-95): 100%|██████████| 1/1 [00:00<00:00,  4.26it/s]"
          ]
        },
        {
          "output_type": "stream",
          "name": "stdout",
          "text": [
            "                   all         15         15      0.996          1      0.995      0.829\n"
          ]
        },
        {
          "output_type": "stream",
          "name": "stderr",
          "text": [
            "\n"
          ]
        },
        {
          "output_type": "stream",
          "name": "stdout",
          "text": [
            "\n",
            "      Epoch    GPU_mem   box_loss   cls_loss   dfl_loss  Instances       Size\n"
          ]
        },
        {
          "output_type": "stream",
          "name": "stderr",
          "text": [
            "     76/100      7.67G     0.7973     0.4351      1.176         16        640: 100%|██████████| 9/9 [00:04<00:00,  2.04it/s]\n",
            "                 Class     Images  Instances      Box(P          R      mAP50  mAP50-95): 100%|██████████| 1/1 [00:00<00:00,  4.83it/s]"
          ]
        },
        {
          "output_type": "stream",
          "name": "stdout",
          "text": [
            "                   all         15         15      0.996          1      0.995      0.836\n"
          ]
        },
        {
          "output_type": "stream",
          "name": "stderr",
          "text": [
            "\n"
          ]
        },
        {
          "output_type": "stream",
          "name": "stdout",
          "text": [
            "\n",
            "      Epoch    GPU_mem   box_loss   cls_loss   dfl_loss  Instances       Size\n"
          ]
        },
        {
          "output_type": "stream",
          "name": "stderr",
          "text": [
            "     77/100      7.61G     0.7957     0.4095      1.148         20        640: 100%|██████████| 9/9 [00:04<00:00,  1.93it/s]\n",
            "                 Class     Images  Instances      Box(P          R      mAP50  mAP50-95): 100%|██████████| 1/1 [00:00<00:00,  4.43it/s]"
          ]
        },
        {
          "output_type": "stream",
          "name": "stdout",
          "text": [
            "                   all         15         15      0.996          1      0.995      0.851\n"
          ]
        },
        {
          "output_type": "stream",
          "name": "stderr",
          "text": [
            "\n"
          ]
        },
        {
          "output_type": "stream",
          "name": "stdout",
          "text": [
            "\n",
            "      Epoch    GPU_mem   box_loss   cls_loss   dfl_loss  Instances       Size\n"
          ]
        },
        {
          "output_type": "stream",
          "name": "stderr",
          "text": [
            "     78/100      7.63G     0.8026     0.4729       1.15         11        640: 100%|██████████| 9/9 [00:04<00:00,  2.07it/s]\n",
            "                 Class     Images  Instances      Box(P          R      mAP50  mAP50-95): 100%|██████████| 1/1 [00:00<00:00,  4.34it/s]"
          ]
        },
        {
          "output_type": "stream",
          "name": "stdout",
          "text": [
            "                   all         15         15      0.996          1      0.995      0.849\n"
          ]
        },
        {
          "output_type": "stream",
          "name": "stderr",
          "text": [
            "\n"
          ]
        },
        {
          "output_type": "stream",
          "name": "stdout",
          "text": [
            "\n",
            "      Epoch    GPU_mem   box_loss   cls_loss   dfl_loss  Instances       Size\n"
          ]
        },
        {
          "output_type": "stream",
          "name": "stderr",
          "text": [
            "     79/100      7.64G     0.7398     0.4193      1.147         19        640: 100%|██████████| 9/9 [00:04<00:00,  2.03it/s]\n",
            "                 Class     Images  Instances      Box(P          R      mAP50  mAP50-95): 100%|██████████| 1/1 [00:00<00:00,  3.46it/s]"
          ]
        },
        {
          "output_type": "stream",
          "name": "stdout",
          "text": [
            "                   all         15         15      0.996          1      0.995      0.851\n"
          ]
        },
        {
          "output_type": "stream",
          "name": "stderr",
          "text": [
            "\n"
          ]
        },
        {
          "output_type": "stream",
          "name": "stdout",
          "text": [
            "\n",
            "      Epoch    GPU_mem   box_loss   cls_loss   dfl_loss  Instances       Size\n"
          ]
        },
        {
          "output_type": "stream",
          "name": "stderr",
          "text": [
            "     80/100      7.65G     0.7513     0.4142      1.125         16        640: 100%|██████████| 9/9 [00:04<00:00,  1.98it/s]\n",
            "                 Class     Images  Instances      Box(P          R      mAP50  mAP50-95): 100%|██████████| 1/1 [00:00<00:00,  4.47it/s]"
          ]
        },
        {
          "output_type": "stream",
          "name": "stdout",
          "text": [
            "                   all         15         15      0.996          1      0.995      0.841\n"
          ]
        },
        {
          "output_type": "stream",
          "name": "stderr",
          "text": [
            "\n"
          ]
        },
        {
          "output_type": "stream",
          "name": "stdout",
          "text": [
            "\n",
            "      Epoch    GPU_mem   box_loss   cls_loss   dfl_loss  Instances       Size\n"
          ]
        },
        {
          "output_type": "stream",
          "name": "stderr",
          "text": [
            "     81/100      7.62G     0.8016     0.4803      1.168         10        640: 100%|██████████| 9/9 [00:04<00:00,  2.06it/s]\n",
            "                 Class     Images  Instances      Box(P          R      mAP50  mAP50-95): 100%|██████████| 1/1 [00:00<00:00,  4.46it/s]"
          ]
        },
        {
          "output_type": "stream",
          "name": "stdout",
          "text": [
            "                   all         15         15      0.996          1      0.995      0.844\n"
          ]
        },
        {
          "output_type": "stream",
          "name": "stderr",
          "text": [
            "\n"
          ]
        },
        {
          "output_type": "stream",
          "name": "stdout",
          "text": [
            "\n",
            "      Epoch    GPU_mem   box_loss   cls_loss   dfl_loss  Instances       Size\n"
          ]
        },
        {
          "output_type": "stream",
          "name": "stderr",
          "text": [
            "     82/100      7.64G     0.7821     0.4241       1.14         18        640: 100%|██████████| 9/9 [00:04<00:00,  1.95it/s]\n",
            "                 Class     Images  Instances      Box(P          R      mAP50  mAP50-95): 100%|██████████| 1/1 [00:00<00:00,  4.55it/s]"
          ]
        },
        {
          "output_type": "stream",
          "name": "stdout",
          "text": [
            "                   all         15         15      0.996          1      0.995      0.862\n"
          ]
        },
        {
          "output_type": "stream",
          "name": "stderr",
          "text": [
            "\n"
          ]
        },
        {
          "output_type": "stream",
          "name": "stdout",
          "text": [
            "\n",
            "      Epoch    GPU_mem   box_loss   cls_loss   dfl_loss  Instances       Size\n"
          ]
        },
        {
          "output_type": "stream",
          "name": "stderr",
          "text": [
            "     83/100      7.67G     0.7498     0.3978      1.115         20        640: 100%|██████████| 9/9 [00:04<00:00,  2.07it/s]\n",
            "                 Class     Images  Instances      Box(P          R      mAP50  mAP50-95): 100%|██████████| 1/1 [00:00<00:00,  4.35it/s]"
          ]
        },
        {
          "output_type": "stream",
          "name": "stdout",
          "text": [
            "                   all         15         15      0.996          1      0.995      0.847\n"
          ]
        },
        {
          "output_type": "stream",
          "name": "stderr",
          "text": [
            "\n"
          ]
        },
        {
          "output_type": "stream",
          "name": "stdout",
          "text": [
            "\n",
            "      Epoch    GPU_mem   box_loss   cls_loss   dfl_loss  Instances       Size\n"
          ]
        },
        {
          "output_type": "stream",
          "name": "stderr",
          "text": [
            "     84/100      7.64G     0.7477     0.4122      1.135         13        640: 100%|██████████| 9/9 [00:04<00:00,  1.90it/s]\n",
            "                 Class     Images  Instances      Box(P          R      mAP50  mAP50-95): 100%|██████████| 1/1 [00:00<00:00,  3.03it/s]"
          ]
        },
        {
          "output_type": "stream",
          "name": "stdout",
          "text": [
            "                   all         15         15      0.996          1      0.995      0.833\n"
          ]
        },
        {
          "output_type": "stream",
          "name": "stderr",
          "text": [
            "\n"
          ]
        },
        {
          "output_type": "stream",
          "name": "stdout",
          "text": [
            "\n",
            "      Epoch    GPU_mem   box_loss   cls_loss   dfl_loss  Instances       Size\n"
          ]
        },
        {
          "output_type": "stream",
          "name": "stderr",
          "text": [
            "     85/100      7.61G     0.7227     0.3952      1.111         16        640: 100%|██████████| 9/9 [00:04<00:00,  2.06it/s]\n",
            "                 Class     Images  Instances      Box(P          R      mAP50  mAP50-95): 100%|██████████| 1/1 [00:00<00:00,  4.02it/s]"
          ]
        },
        {
          "output_type": "stream",
          "name": "stdout",
          "text": [
            "                   all         15         15      0.996          1      0.995      0.821\n"
          ]
        },
        {
          "output_type": "stream",
          "name": "stderr",
          "text": [
            "\n"
          ]
        },
        {
          "output_type": "stream",
          "name": "stdout",
          "text": [
            "\n",
            "      Epoch    GPU_mem   box_loss   cls_loss   dfl_loss  Instances       Size\n"
          ]
        },
        {
          "output_type": "stream",
          "name": "stderr",
          "text": [
            "     86/100      7.64G      0.796     0.4228      1.168         17        640: 100%|██████████| 9/9 [00:04<00:00,  2.07it/s]\n",
            "                 Class     Images  Instances      Box(P          R      mAP50  mAP50-95): 100%|██████████| 1/1 [00:00<00:00,  4.05it/s]"
          ]
        },
        {
          "output_type": "stream",
          "name": "stdout",
          "text": [
            "                   all         15         15      0.996          1      0.995      0.837\n"
          ]
        },
        {
          "output_type": "stream",
          "name": "stderr",
          "text": [
            "\n"
          ]
        },
        {
          "output_type": "stream",
          "name": "stdout",
          "text": [
            "\n",
            "      Epoch    GPU_mem   box_loss   cls_loss   dfl_loss  Instances       Size\n"
          ]
        },
        {
          "output_type": "stream",
          "name": "stderr",
          "text": [
            "     87/100      7.65G     0.8103     0.4299      1.193         14        640: 100%|██████████| 9/9 [00:04<00:00,  1.97it/s]\n",
            "                 Class     Images  Instances      Box(P          R      mAP50  mAP50-95): 100%|██████████| 1/1 [00:00<00:00,  4.67it/s]"
          ]
        },
        {
          "output_type": "stream",
          "name": "stdout",
          "text": [
            "                   all         15         15      0.996          1      0.995      0.838\n"
          ]
        },
        {
          "output_type": "stream",
          "name": "stderr",
          "text": [
            "\n"
          ]
        },
        {
          "output_type": "stream",
          "name": "stdout",
          "text": [
            "\n",
            "      Epoch    GPU_mem   box_loss   cls_loss   dfl_loss  Instances       Size\n"
          ]
        },
        {
          "output_type": "stream",
          "name": "stderr",
          "text": [
            "     88/100      7.65G      0.742     0.3866      1.096         14        640: 100%|██████████| 9/9 [00:04<00:00,  2.01it/s]\n",
            "                 Class     Images  Instances      Box(P          R      mAP50  mAP50-95): 100%|██████████| 1/1 [00:00<00:00,  4.55it/s]"
          ]
        },
        {
          "output_type": "stream",
          "name": "stdout",
          "text": [
            "                   all         15         15      0.996          1      0.995      0.839\n"
          ]
        },
        {
          "output_type": "stream",
          "name": "stderr",
          "text": [
            "\n"
          ]
        },
        {
          "output_type": "stream",
          "name": "stdout",
          "text": [
            "\n",
            "      Epoch    GPU_mem   box_loss   cls_loss   dfl_loss  Instances       Size\n"
          ]
        },
        {
          "output_type": "stream",
          "name": "stderr",
          "text": [
            "     89/100      7.62G     0.7856     0.4426      1.162         21        640: 100%|██████████| 9/9 [00:04<00:00,  1.98it/s]\n",
            "                 Class     Images  Instances      Box(P          R      mAP50  mAP50-95): 100%|██████████| 1/1 [00:00<00:00,  2.60it/s]"
          ]
        },
        {
          "output_type": "stream",
          "name": "stdout",
          "text": [
            "                   all         15         15      0.996          1      0.995      0.837\n"
          ]
        },
        {
          "output_type": "stream",
          "name": "stderr",
          "text": [
            "\n"
          ]
        },
        {
          "output_type": "stream",
          "name": "stdout",
          "text": [
            "\n",
            "      Epoch    GPU_mem   box_loss   cls_loss   dfl_loss  Instances       Size\n"
          ]
        },
        {
          "output_type": "stream",
          "name": "stderr",
          "text": [
            "     90/100      7.62G     0.7382     0.4095       1.14         13        640: 100%|██████████| 9/9 [00:04<00:00,  2.06it/s]\n",
            "                 Class     Images  Instances      Box(P          R      mAP50  mAP50-95): 100%|██████████| 1/1 [00:00<00:00,  4.23it/s]"
          ]
        },
        {
          "output_type": "stream",
          "name": "stdout",
          "text": [
            "                   all         15         15      0.996          1      0.995      0.835\n"
          ]
        },
        {
          "output_type": "stream",
          "name": "stderr",
          "text": [
            "\n"
          ]
        },
        {
          "output_type": "stream",
          "name": "stdout",
          "text": [
            "Closing dataloader mosaic\n",
            "\u001b[34m\u001b[1malbumentations: \u001b[0mBlur(p=0.01, blur_limit=(3, 7)), MedianBlur(p=0.01, blur_limit=(3, 7)), ToGray(p=0.01), CLAHE(p=0.01, clip_limit=(1, 4.0), tile_grid_size=(8, 8))\n",
            "\n",
            "      Epoch    GPU_mem   box_loss   cls_loss   dfl_loss  Instances       Size\n"
          ]
        },
        {
          "output_type": "stream",
          "name": "stderr",
          "text": [
            "     91/100      7.64G     0.7015     0.3512      1.207          8        640: 100%|██████████| 9/9 [00:05<00:00,  1.62it/s]\n",
            "                 Class     Images  Instances      Box(P          R      mAP50  mAP50-95): 100%|██████████| 1/1 [00:00<00:00,  2.97it/s]"
          ]
        },
        {
          "output_type": "stream",
          "name": "stdout",
          "text": [
            "                   all         15         15      0.996          1      0.995      0.818\n"
          ]
        },
        {
          "output_type": "stream",
          "name": "stderr",
          "text": [
            "\n"
          ]
        },
        {
          "output_type": "stream",
          "name": "stdout",
          "text": [
            "\n",
            "      Epoch    GPU_mem   box_loss   cls_loss   dfl_loss  Instances       Size\n"
          ]
        },
        {
          "output_type": "stream",
          "name": "stderr",
          "text": [
            "     92/100      7.65G     0.6744     0.3384      1.165          8        640: 100%|██████████| 9/9 [00:04<00:00,  2.02it/s]\n",
            "                 Class     Images  Instances      Box(P          R      mAP50  mAP50-95): 100%|██████████| 1/1 [00:00<00:00,  4.62it/s]"
          ]
        },
        {
          "output_type": "stream",
          "name": "stdout",
          "text": [
            "                   all         15         15      0.995          1      0.995      0.825\n"
          ]
        },
        {
          "output_type": "stream",
          "name": "stderr",
          "text": [
            "\n"
          ]
        },
        {
          "output_type": "stream",
          "name": "stdout",
          "text": [
            "\n",
            "      Epoch    GPU_mem   box_loss   cls_loss   dfl_loss  Instances       Size\n"
          ]
        },
        {
          "output_type": "stream",
          "name": "stderr",
          "text": [
            "     93/100      7.61G     0.7025      0.334      1.153          8        640: 100%|██████████| 9/9 [00:04<00:00,  2.07it/s]\n",
            "                 Class     Images  Instances      Box(P          R      mAP50  mAP50-95): 100%|██████████| 1/1 [00:00<00:00,  4.31it/s]"
          ]
        },
        {
          "output_type": "stream",
          "name": "stdout",
          "text": [
            "                   all         15         15      0.995          1      0.995      0.843\n"
          ]
        },
        {
          "output_type": "stream",
          "name": "stderr",
          "text": [
            "\n"
          ]
        },
        {
          "output_type": "stream",
          "name": "stdout",
          "text": [
            "\n",
            "      Epoch    GPU_mem   box_loss   cls_loss   dfl_loss  Instances       Size\n"
          ]
        },
        {
          "output_type": "stream",
          "name": "stderr",
          "text": [
            "     94/100      7.63G     0.7508     0.3373      1.201          8        640: 100%|██████████| 9/9 [00:04<00:00,  1.96it/s]\n",
            "                 Class     Images  Instances      Box(P          R      mAP50  mAP50-95): 100%|██████████| 1/1 [00:00<00:00,  4.26it/s]"
          ]
        },
        {
          "output_type": "stream",
          "name": "stdout",
          "text": [
            "                   all         15         15      0.995          1      0.995      0.824\n"
          ]
        },
        {
          "output_type": "stream",
          "name": "stderr",
          "text": [
            "\n"
          ]
        },
        {
          "output_type": "stream",
          "name": "stdout",
          "text": [
            "\n",
            "      Epoch    GPU_mem   box_loss   cls_loss   dfl_loss  Instances       Size\n"
          ]
        },
        {
          "output_type": "stream",
          "name": "stderr",
          "text": [
            "     95/100      7.66G     0.6553     0.3267      1.148          8        640: 100%|██████████| 9/9 [00:04<00:00,  2.07it/s]\n",
            "                 Class     Images  Instances      Box(P          R      mAP50  mAP50-95): 100%|██████████| 1/1 [00:00<00:00,  4.33it/s]"
          ]
        },
        {
          "output_type": "stream",
          "name": "stdout",
          "text": [
            "                   all         15         15      0.996          1      0.995      0.851\n"
          ]
        },
        {
          "output_type": "stream",
          "name": "stderr",
          "text": [
            "\n"
          ]
        },
        {
          "output_type": "stream",
          "name": "stdout",
          "text": [
            "\n",
            "      Epoch    GPU_mem   box_loss   cls_loss   dfl_loss  Instances       Size\n"
          ]
        },
        {
          "output_type": "stream",
          "name": "stderr",
          "text": [
            "     96/100      7.65G     0.6739     0.3173      1.152          8        640: 100%|██████████| 9/9 [00:04<00:00,  1.94it/s]\n",
            "                 Class     Images  Instances      Box(P          R      mAP50  mAP50-95): 100%|██████████| 1/1 [00:00<00:00,  2.57it/s]"
          ]
        },
        {
          "output_type": "stream",
          "name": "stdout",
          "text": [
            "                   all         15         15      0.996          1      0.995      0.854\n"
          ]
        },
        {
          "output_type": "stream",
          "name": "stderr",
          "text": [
            "\n"
          ]
        },
        {
          "output_type": "stream",
          "name": "stdout",
          "text": [
            "\n",
            "      Epoch    GPU_mem   box_loss   cls_loss   dfl_loss  Instances       Size\n"
          ]
        },
        {
          "output_type": "stream",
          "name": "stderr",
          "text": [
            "     97/100      7.62G     0.6648     0.3102      1.155          8        640: 100%|██████████| 9/9 [00:04<00:00,  2.06it/s]\n",
            "                 Class     Images  Instances      Box(P          R      mAP50  mAP50-95): 100%|██████████| 1/1 [00:00<00:00,  4.34it/s]"
          ]
        },
        {
          "output_type": "stream",
          "name": "stdout",
          "text": [
            "                   all         15         15      0.996          1      0.995      0.863\n"
          ]
        },
        {
          "output_type": "stream",
          "name": "stderr",
          "text": [
            "\n"
          ]
        },
        {
          "output_type": "stream",
          "name": "stdout",
          "text": [
            "\n",
            "      Epoch    GPU_mem   box_loss   cls_loss   dfl_loss  Instances       Size\n"
          ]
        },
        {
          "output_type": "stream",
          "name": "stderr",
          "text": [
            "     98/100       7.6G     0.6373     0.3001      1.123          8        640: 100%|██████████| 9/9 [00:04<00:00,  2.07it/s]\n",
            "                 Class     Images  Instances      Box(P          R      mAP50  mAP50-95): 100%|██████████| 1/1 [00:00<00:00,  3.13it/s]"
          ]
        },
        {
          "output_type": "stream",
          "name": "stdout",
          "text": [
            "                   all         15         15      0.996          1      0.995      0.865\n"
          ]
        },
        {
          "output_type": "stream",
          "name": "stderr",
          "text": [
            "\n"
          ]
        },
        {
          "output_type": "stream",
          "name": "stdout",
          "text": [
            "\n",
            "      Epoch    GPU_mem   box_loss   cls_loss   dfl_loss  Instances       Size\n"
          ]
        },
        {
          "output_type": "stream",
          "name": "stderr",
          "text": [
            "     99/100      7.64G     0.6616     0.3007      1.142          8        640: 100%|██████████| 9/9 [00:04<00:00,  1.98it/s]\n",
            "                 Class     Images  Instances      Box(P          R      mAP50  mAP50-95): 100%|██████████| 1/1 [00:00<00:00,  4.59it/s]"
          ]
        },
        {
          "output_type": "stream",
          "name": "stdout",
          "text": [
            "                   all         15         15      0.996          1      0.995      0.852\n"
          ]
        },
        {
          "output_type": "stream",
          "name": "stderr",
          "text": [
            "\n"
          ]
        },
        {
          "output_type": "stream",
          "name": "stdout",
          "text": [
            "\n",
            "      Epoch    GPU_mem   box_loss   cls_loss   dfl_loss  Instances       Size\n"
          ]
        },
        {
          "output_type": "stream",
          "name": "stderr",
          "text": [
            "    100/100      7.62G      0.669     0.2975      1.132          8        640: 100%|██████████| 9/9 [00:04<00:00,  2.05it/s]\n",
            "                 Class     Images  Instances      Box(P          R      mAP50  mAP50-95): 100%|██████████| 1/1 [00:00<00:00,  4.46it/s]"
          ]
        },
        {
          "output_type": "stream",
          "name": "stdout",
          "text": [
            "                   all         15         15      0.996          1      0.995      0.844\n"
          ]
        },
        {
          "output_type": "stream",
          "name": "stderr",
          "text": [
            "\n"
          ]
        },
        {
          "output_type": "stream",
          "name": "stdout",
          "text": [
            "\n",
            "100 epochs completed in 0.164 hours.\n",
            "Optimizer stripped from runs/detect/train3/weights/last.pt, 52.0MB\n",
            "Optimizer stripped from runs/detect/train3/weights/best.pt, 52.0MB\n",
            "\n",
            "Validating runs/detect/train3/weights/best.pt...\n",
            "Ultralytics YOLOv8.1.47 🚀 Python-3.10.12 torch-2.2.1+cu121 CUDA:0 (Tesla T4, 15102MiB)\n",
            "Model summary (fused): 218 layers, 25840339 parameters, 0 gradients, 78.7 GFLOPs\n"
          ]
        },
        {
          "output_type": "stream",
          "name": "stderr",
          "text": [
            "                 Class     Images  Instances      Box(P          R      mAP50  mAP50-95): 100%|██████████| 1/1 [00:00<00:00,  2.93it/s]\n"
          ]
        },
        {
          "output_type": "stream",
          "name": "stdout",
          "text": [
            "                   all         15         15      0.996          1      0.995      0.876\n",
            "Speed: 0.2ms preprocess, 13.2ms inference, 0.0ms loss, 0.9ms postprocess per image\n",
            "Results saved to \u001b[1mruns/detect/train3\u001b[0m\n"
          ]
        }
      ]
    },
    {
      "cell_type": "code",
      "source": [
        "pre = model.predict(\n",
        "    source=\"Test.mp4\",\n",
        "    show=True,\n",
        "    imgsz=1280,\n",
        "    hide_labels=True,\n",
        "    save=True,\n",
        "    name=\"res\",\n",
        "    conf=0.1,\n",
        "    )"
      ],
      "metadata": {
        "colab": {
          "base_uri": "https://localhost:8080/"
        },
        "id": "vnsrxQl7zpDo",
        "outputId": "f7237e21-0670-4e10-b857-c4aea4b77a84"
      },
      "execution_count": null,
      "outputs": [
        {
          "output_type": "stream",
          "name": "stdout",
          "text": [
            "WARNING ⚠️ 'hide_labels' is deprecated and will be removed in 'ultralytics 8.299999999999999' in the future. Please use 'show_labels' instead.\n",
            "WARNING ⚠️ Environment does not support cv2.imshow() or PIL Image.show()\n",
            "\n",
            "\n",
            "\n",
            "WARNING ⚠️ inference results will accumulate in RAM unless `stream=True` is passed, causing potential out-of-memory\n",
            "errors for large sources or long-running streams and videos. See https://docs.ultralytics.com/modes/predict/ for help.\n",
            "\n",
            "Example:\n",
            "    results = model(source=..., stream=True)  # generator of Results objects\n",
            "    for r in results:\n",
            "        boxes = r.boxes  # Boxes object for bbox outputs\n",
            "        masks = r.masks  # Masks object for segment masks outputs\n",
            "        probs = r.probs  # Class probabilities for classification outputs\n",
            "\n",
            "video 1/1 (frame 1/754) /content/Test.mp4: 1280x736 3 mandarins, 78.1ms\n",
            "video 1/1 (frame 2/754) /content/Test.mp4: 1280x736 2 mandarins, 57.9ms\n",
            "video 1/1 (frame 3/754) /content/Test.mp4: 1280x736 2 mandarins, 57.9ms\n",
            "video 1/1 (frame 4/754) /content/Test.mp4: 1280x736 2 mandarins, 57.9ms\n",
            "video 1/1 (frame 5/754) /content/Test.mp4: 1280x736 2 mandarins, 58.0ms\n",
            "video 1/1 (frame 6/754) /content/Test.mp4: 1280x736 1 mandarin, 57.9ms\n",
            "video 1/1 (frame 7/754) /content/Test.mp4: 1280x736 1 mandarin, 71.1ms\n",
            "video 1/1 (frame 8/754) /content/Test.mp4: 1280x736 1 mandarin, 71.7ms\n",
            "video 1/1 (frame 9/754) /content/Test.mp4: 1280x736 1 mandarin, 74.2ms\n",
            "video 1/1 (frame 10/754) /content/Test.mp4: 1280x736 2 mandarins, 74.2ms\n",
            "video 1/1 (frame 11/754) /content/Test.mp4: 1280x736 2 mandarins, 74.3ms\n",
            "video 1/1 (frame 12/754) /content/Test.mp4: 1280x736 1 mandarin, 74.2ms\n",
            "video 1/1 (frame 13/754) /content/Test.mp4: 1280x736 1 mandarin, 74.3ms\n",
            "video 1/1 (frame 14/754) /content/Test.mp4: 1280x736 2 mandarins, 74.2ms\n",
            "video 1/1 (frame 15/754) /content/Test.mp4: 1280x736 1 mandarin, 74.2ms\n",
            "video 1/1 (frame 16/754) /content/Test.mp4: 1280x736 1 mandarin, 74.2ms\n",
            "video 1/1 (frame 17/754) /content/Test.mp4: 1280x736 1 mandarin, 74.2ms\n",
            "video 1/1 (frame 18/754) /content/Test.mp4: 1280x736 1 mandarin, 74.1ms\n",
            "video 1/1 (frame 19/754) /content/Test.mp4: 1280x736 1 mandarin, 74.2ms\n",
            "video 1/1 (frame 20/754) /content/Test.mp4: 1280x736 1 mandarin, 74.1ms\n",
            "video 1/1 (frame 21/754) /content/Test.mp4: 1280x736 1 mandarin, 74.2ms\n",
            "video 1/1 (frame 22/754) /content/Test.mp4: 1280x736 2 mandarins, 74.2ms\n",
            "video 1/1 (frame 23/754) /content/Test.mp4: 1280x736 1 mandarin, 74.2ms\n",
            "video 1/1 (frame 24/754) /content/Test.mp4: 1280x736 1 mandarin, 74.2ms\n",
            "video 1/1 (frame 25/754) /content/Test.mp4: 1280x736 1 mandarin, 74.3ms\n",
            "video 1/1 (frame 26/754) /content/Test.mp4: 1280x736 1 mandarin, 74.1ms\n",
            "video 1/1 (frame 27/754) /content/Test.mp4: 1280x736 1 mandarin, 74.1ms\n",
            "video 1/1 (frame 28/754) /content/Test.mp4: 1280x736 1 mandarin, 74.1ms\n",
            "video 1/1 (frame 29/754) /content/Test.mp4: 1280x736 1 mandarin, 74.1ms\n",
            "video 1/1 (frame 30/754) /content/Test.mp4: 1280x736 1 mandarin, 74.2ms\n",
            "video 1/1 (frame 31/754) /content/Test.mp4: 1280x736 1 mandarin, 76.9ms\n",
            "video 1/1 (frame 32/754) /content/Test.mp4: 1280x736 1 mandarin, 74.2ms\n",
            "video 1/1 (frame 33/754) /content/Test.mp4: 1280x736 1 mandarin, 74.2ms\n",
            "video 1/1 (frame 34/754) /content/Test.mp4: 1280x736 1 mandarin, 74.2ms\n",
            "video 1/1 (frame 35/754) /content/Test.mp4: 1280x736 1 mandarin, 77.8ms\n",
            "video 1/1 (frame 36/754) /content/Test.mp4: 1280x736 1 mandarin, 74.2ms\n",
            "video 1/1 (frame 37/754) /content/Test.mp4: 1280x736 1 mandarin, 74.2ms\n",
            "video 1/1 (frame 38/754) /content/Test.mp4: 1280x736 1 mandarin, 74.2ms\n",
            "video 1/1 (frame 39/754) /content/Test.mp4: 1280x736 1 mandarin, 74.2ms\n",
            "video 1/1 (frame 40/754) /content/Test.mp4: 1280x736 1 mandarin, 80.5ms\n",
            "video 1/1 (frame 41/754) /content/Test.mp4: 1280x736 1 mandarin, 74.2ms\n",
            "video 1/1 (frame 42/754) /content/Test.mp4: 1280x736 1 mandarin, 74.1ms\n",
            "video 1/1 (frame 43/754) /content/Test.mp4: 1280x736 1 mandarin, 74.2ms\n",
            "video 1/1 (frame 44/754) /content/Test.mp4: 1280x736 1 mandarin, 74.2ms\n",
            "video 1/1 (frame 45/754) /content/Test.mp4: 1280x736 1 mandarin, 74.1ms\n",
            "video 1/1 (frame 46/754) /content/Test.mp4: 1280x736 (no detections), 74.3ms\n",
            "video 1/1 (frame 47/754) /content/Test.mp4: 1280x736 (no detections), 74.1ms\n",
            "video 1/1 (frame 48/754) /content/Test.mp4: 1280x736 (no detections), 74.2ms\n",
            "video 1/1 (frame 49/754) /content/Test.mp4: 1280x736 1 mandarin, 74.2ms\n",
            "video 1/1 (frame 50/754) /content/Test.mp4: 1280x736 (no detections), 74.2ms\n",
            "video 1/1 (frame 51/754) /content/Test.mp4: 1280x736 (no detections), 74.1ms\n",
            "video 1/1 (frame 52/754) /content/Test.mp4: 1280x736 1 mandarin, 74.2ms\n",
            "video 1/1 (frame 53/754) /content/Test.mp4: 1280x736 1 mandarin, 74.3ms\n",
            "video 1/1 (frame 54/754) /content/Test.mp4: 1280x736 1 mandarin, 74.2ms\n",
            "video 1/1 (frame 55/754) /content/Test.mp4: 1280x736 1 mandarin, 74.3ms\n",
            "video 1/1 (frame 56/754) /content/Test.mp4: 1280x736 1 mandarin, 74.2ms\n",
            "video 1/1 (frame 57/754) /content/Test.mp4: 1280x736 1 mandarin, 74.2ms\n",
            "video 1/1 (frame 58/754) /content/Test.mp4: 1280x736 (no detections), 74.2ms\n",
            "video 1/1 (frame 59/754) /content/Test.mp4: 1280x736 (no detections), 74.1ms\n",
            "video 1/1 (frame 60/754) /content/Test.mp4: 1280x736 (no detections), 74.1ms\n",
            "video 1/1 (frame 61/754) /content/Test.mp4: 1280x736 (no detections), 74.2ms\n",
            "video 1/1 (frame 62/754) /content/Test.mp4: 1280x736 (no detections), 74.2ms\n",
            "video 1/1 (frame 63/754) /content/Test.mp4: 1280x736 1 mandarin, 74.2ms\n",
            "video 1/1 (frame 64/754) /content/Test.mp4: 1280x736 1 mandarin, 74.2ms\n",
            "video 1/1 (frame 65/754) /content/Test.mp4: 1280x736 2 mandarins, 74.1ms\n",
            "video 1/1 (frame 66/754) /content/Test.mp4: 1280x736 2 mandarins, 74.2ms\n",
            "video 1/1 (frame 67/754) /content/Test.mp4: 1280x736 2 mandarins, 74.2ms\n",
            "video 1/1 (frame 68/754) /content/Test.mp4: 1280x736 1 mandarin, 74.2ms\n",
            "video 1/1 (frame 69/754) /content/Test.mp4: 1280x736 1 mandarin, 74.1ms\n",
            "video 1/1 (frame 70/754) /content/Test.mp4: 1280x736 1 mandarin, 74.2ms\n",
            "video 1/1 (frame 71/754) /content/Test.mp4: 1280x736 1 mandarin, 74.2ms\n",
            "video 1/1 (frame 72/754) /content/Test.mp4: 1280x736 1 mandarin, 74.2ms\n",
            "video 1/1 (frame 73/754) /content/Test.mp4: 1280x736 2 mandarins, 74.1ms\n",
            "video 1/1 (frame 74/754) /content/Test.mp4: 1280x736 2 mandarins, 74.2ms\n",
            "video 1/1 (frame 75/754) /content/Test.mp4: 1280x736 2 mandarins, 74.2ms\n",
            "video 1/1 (frame 76/754) /content/Test.mp4: 1280x736 2 mandarins, 74.2ms\n",
            "video 1/1 (frame 77/754) /content/Test.mp4: 1280x736 3 mandarins, 74.2ms\n",
            "video 1/1 (frame 78/754) /content/Test.mp4: 1280x736 2 mandarins, 74.2ms\n",
            "video 1/1 (frame 79/754) /content/Test.mp4: 1280x736 3 mandarins, 74.2ms\n",
            "video 1/1 (frame 80/754) /content/Test.mp4: 1280x736 4 mandarins, 74.2ms\n",
            "video 1/1 (frame 81/754) /content/Test.mp4: 1280x736 1 mandarin, 76.5ms\n",
            "video 1/1 (frame 82/754) /content/Test.mp4: 1280x736 2 mandarins, 74.2ms\n",
            "video 1/1 (frame 83/754) /content/Test.mp4: 1280x736 1 mandarin, 80.2ms\n",
            "video 1/1 (frame 84/754) /content/Test.mp4: 1280x736 1 mandarin, 74.2ms\n",
            "video 1/1 (frame 85/754) /content/Test.mp4: 1280x736 1 mandarin, 74.2ms\n",
            "video 1/1 (frame 86/754) /content/Test.mp4: 1280x736 1 mandarin, 74.2ms\n",
            "video 1/1 (frame 87/754) /content/Test.mp4: 1280x736 1 mandarin, 74.2ms\n",
            "video 1/1 (frame 88/754) /content/Test.mp4: 1280x736 2 mandarins, 74.2ms\n",
            "video 1/1 (frame 89/754) /content/Test.mp4: 1280x736 2 mandarins, 74.2ms\n",
            "video 1/1 (frame 90/754) /content/Test.mp4: 1280x736 2 mandarins, 74.2ms\n",
            "video 1/1 (frame 91/754) /content/Test.mp4: 1280x736 1 mandarin, 74.2ms\n",
            "video 1/1 (frame 92/754) /content/Test.mp4: 1280x736 1 mandarin, 74.2ms\n",
            "video 1/1 (frame 93/754) /content/Test.mp4: 1280x736 1 mandarin, 74.1ms\n",
            "video 1/1 (frame 94/754) /content/Test.mp4: 1280x736 1 mandarin, 74.1ms\n",
            "video 1/1 (frame 95/754) /content/Test.mp4: 1280x736 1 mandarin, 74.2ms\n",
            "video 1/1 (frame 96/754) /content/Test.mp4: 1280x736 1 mandarin, 74.2ms\n",
            "video 1/1 (frame 97/754) /content/Test.mp4: 1280x736 1 mandarin, 74.1ms\n",
            "video 1/1 (frame 98/754) /content/Test.mp4: 1280x736 (no detections), 74.2ms\n",
            "video 1/1 (frame 99/754) /content/Test.mp4: 1280x736 (no detections), 74.2ms\n",
            "video 1/1 (frame 100/754) /content/Test.mp4: 1280x736 3 mandarins, 74.2ms\n",
            "video 1/1 (frame 101/754) /content/Test.mp4: 1280x736 2 mandarins, 74.2ms\n",
            "video 1/1 (frame 102/754) /content/Test.mp4: 1280x736 2 mandarins, 74.2ms\n",
            "video 1/1 (frame 103/754) /content/Test.mp4: 1280x736 2 mandarins, 74.2ms\n",
            "video 1/1 (frame 104/754) /content/Test.mp4: 1280x736 2 mandarins, 74.4ms\n",
            "video 1/1 (frame 105/754) /content/Test.mp4: 1280x736 2 mandarins, 74.2ms\n",
            "video 1/1 (frame 106/754) /content/Test.mp4: 1280x736 2 mandarins, 74.1ms\n",
            "video 1/1 (frame 107/754) /content/Test.mp4: 1280x736 1 mandarin, 74.2ms\n",
            "video 1/1 (frame 108/754) /content/Test.mp4: 1280x736 1 mandarin, 74.2ms\n",
            "video 1/1 (frame 109/754) /content/Test.mp4: 1280x736 1 mandarin, 74.2ms\n",
            "video 1/1 (frame 110/754) /content/Test.mp4: 1280x736 2 mandarins, 74.2ms\n",
            "video 1/1 (frame 111/754) /content/Test.mp4: 1280x736 (no detections), 74.1ms\n",
            "video 1/1 (frame 112/754) /content/Test.mp4: 1280x736 4 mandarins, 74.2ms\n",
            "video 1/1 (frame 113/754) /content/Test.mp4: 1280x736 1 mandarin, 74.1ms\n",
            "video 1/1 (frame 114/754) /content/Test.mp4: 1280x736 2 mandarins, 74.3ms\n",
            "video 1/1 (frame 115/754) /content/Test.mp4: 1280x736 1 mandarin, 74.1ms\n",
            "video 1/1 (frame 116/754) /content/Test.mp4: 1280x736 (no detections), 74.2ms\n",
            "video 1/1 (frame 117/754) /content/Test.mp4: 1280x736 1 mandarin, 74.3ms\n",
            "video 1/1 (frame 118/754) /content/Test.mp4: 1280x736 (no detections), 74.2ms\n",
            "video 1/1 (frame 119/754) /content/Test.mp4: 1280x736 (no detections), 74.1ms\n",
            "video 1/1 (frame 120/754) /content/Test.mp4: 1280x736 (no detections), 74.2ms\n",
            "video 1/1 (frame 121/754) /content/Test.mp4: 1280x736 1 mandarin, 74.2ms\n",
            "video 1/1 (frame 122/754) /content/Test.mp4: 1280x736 2 mandarins, 74.3ms\n",
            "video 1/1 (frame 123/754) /content/Test.mp4: 1280x736 (no detections), 74.2ms\n",
            "video 1/1 (frame 124/754) /content/Test.mp4: 1280x736 2 mandarins, 74.2ms\n",
            "video 1/1 (frame 125/754) /content/Test.mp4: 1280x736 1 mandarin, 74.2ms\n",
            "video 1/1 (frame 126/754) /content/Test.mp4: 1280x736 2 mandarins, 74.3ms\n",
            "video 1/1 (frame 127/754) /content/Test.mp4: 1280x736 2 mandarins, 74.3ms\n",
            "video 1/1 (frame 128/754) /content/Test.mp4: 1280x736 1 mandarin, 74.2ms\n",
            "video 1/1 (frame 129/754) /content/Test.mp4: 1280x736 1 mandarin, 74.2ms\n",
            "video 1/1 (frame 130/754) /content/Test.mp4: 1280x736 1 mandarin, 74.2ms\n",
            "video 1/1 (frame 131/754) /content/Test.mp4: 1280x736 1 mandarin, 74.3ms\n",
            "video 1/1 (frame 132/754) /content/Test.mp4: 1280x736 1 mandarin, 75.5ms\n",
            "video 1/1 (frame 133/754) /content/Test.mp4: 1280x736 1 mandarin, 74.2ms\n",
            "video 1/1 (frame 134/754) /content/Test.mp4: 1280x736 1 mandarin, 74.3ms\n",
            "video 1/1 (frame 135/754) /content/Test.mp4: 1280x736 1 mandarin, 74.2ms\n",
            "video 1/1 (frame 136/754) /content/Test.mp4: 1280x736 1 mandarin, 74.2ms\n",
            "video 1/1 (frame 137/754) /content/Test.mp4: 1280x736 1 mandarin, 74.3ms\n",
            "video 1/1 (frame 138/754) /content/Test.mp4: 1280x736 (no detections), 74.2ms\n",
            "video 1/1 (frame 139/754) /content/Test.mp4: 1280x736 2 mandarins, 74.1ms\n",
            "video 1/1 (frame 140/754) /content/Test.mp4: 1280x736 2 mandarins, 74.2ms\n",
            "video 1/1 (frame 141/754) /content/Test.mp4: 1280x736 2 mandarins, 74.2ms\n",
            "video 1/1 (frame 142/754) /content/Test.mp4: 1280x736 2 mandarins, 74.2ms\n",
            "video 1/1 (frame 143/754) /content/Test.mp4: 1280x736 3 mandarins, 74.2ms\n",
            "video 1/1 (frame 144/754) /content/Test.mp4: 1280x736 3 mandarins, 74.2ms\n",
            "video 1/1 (frame 145/754) /content/Test.mp4: 1280x736 4 mandarins, 74.2ms\n",
            "video 1/1 (frame 146/754) /content/Test.mp4: 1280x736 4 mandarins, 74.2ms\n",
            "video 1/1 (frame 147/754) /content/Test.mp4: 1280x736 4 mandarins, 74.1ms\n",
            "video 1/1 (frame 148/754) /content/Test.mp4: 1280x736 5 mandarins, 74.2ms\n",
            "video 1/1 (frame 149/754) /content/Test.mp4: 1280x736 5 mandarins, 74.2ms\n",
            "video 1/1 (frame 150/754) /content/Test.mp4: 1280x736 5 mandarins, 74.2ms\n",
            "video 1/1 (frame 151/754) /content/Test.mp4: 1280x736 4 mandarins, 74.2ms\n",
            "video 1/1 (frame 152/754) /content/Test.mp4: 1280x736 5 mandarins, 74.2ms\n",
            "video 1/1 (frame 153/754) /content/Test.mp4: 1280x736 5 mandarins, 74.3ms\n",
            "video 1/1 (frame 154/754) /content/Test.mp4: 1280x736 6 mandarins, 74.2ms\n",
            "video 1/1 (frame 155/754) /content/Test.mp4: 1280x736 5 mandarins, 74.2ms\n",
            "video 1/1 (frame 156/754) /content/Test.mp4: 1280x736 3 mandarins, 74.2ms\n",
            "video 1/1 (frame 157/754) /content/Test.mp4: 1280x736 4 mandarins, 74.1ms\n",
            "video 1/1 (frame 158/754) /content/Test.mp4: 1280x736 3 mandarins, 74.2ms\n",
            "video 1/1 (frame 159/754) /content/Test.mp4: 1280x736 2 mandarins, 74.4ms\n",
            "video 1/1 (frame 160/754) /content/Test.mp4: 1280x736 3 mandarins, 74.2ms\n",
            "video 1/1 (frame 161/754) /content/Test.mp4: 1280x736 3 mandarins, 74.2ms\n",
            "video 1/1 (frame 162/754) /content/Test.mp4: 1280x736 3 mandarins, 74.2ms\n",
            "video 1/1 (frame 163/754) /content/Test.mp4: 1280x736 3 mandarins, 74.2ms\n",
            "video 1/1 (frame 164/754) /content/Test.mp4: 1280x736 3 mandarins, 74.2ms\n",
            "video 1/1 (frame 165/754) /content/Test.mp4: 1280x736 3 mandarins, 74.2ms\n",
            "video 1/1 (frame 166/754) /content/Test.mp4: 1280x736 2 mandarins, 74.3ms\n",
            "video 1/1 (frame 167/754) /content/Test.mp4: 1280x736 2 mandarins, 74.2ms\n",
            "video 1/1 (frame 168/754) /content/Test.mp4: 1280x736 1 mandarin, 74.2ms\n",
            "video 1/1 (frame 169/754) /content/Test.mp4: 1280x736 2 mandarins, 74.1ms\n",
            "video 1/1 (frame 170/754) /content/Test.mp4: 1280x736 1 mandarin, 74.3ms\n",
            "video 1/1 (frame 171/754) /content/Test.mp4: 1280x736 3 mandarins, 74.2ms\n",
            "video 1/1 (frame 172/754) /content/Test.mp4: 1280x736 (no detections), 74.2ms\n",
            "video 1/1 (frame 173/754) /content/Test.mp4: 1280x736 1 mandarin, 74.1ms\n",
            "video 1/1 (frame 174/754) /content/Test.mp4: 1280x736 3 mandarins, 74.2ms\n",
            "video 1/1 (frame 175/754) /content/Test.mp4: 1280x736 1 mandarin, 74.2ms\n",
            "video 1/1 (frame 176/754) /content/Test.mp4: 1280x736 2 mandarins, 74.2ms\n",
            "video 1/1 (frame 177/754) /content/Test.mp4: 1280x736 3 mandarins, 74.2ms\n",
            "video 1/1 (frame 178/754) /content/Test.mp4: 1280x736 3 mandarins, 78.6ms\n",
            "video 1/1 (frame 179/754) /content/Test.mp4: 1280x736 3 mandarins, 74.2ms\n",
            "video 1/1 (frame 180/754) /content/Test.mp4: 1280x736 4 mandarins, 74.2ms\n",
            "video 1/1 (frame 181/754) /content/Test.mp4: 1280x736 3 mandarins, 74.2ms\n",
            "video 1/1 (frame 182/754) /content/Test.mp4: 1280x736 1 mandarin, 81.0ms\n",
            "video 1/1 (frame 183/754) /content/Test.mp4: 1280x736 2 mandarins, 74.2ms\n",
            "video 1/1 (frame 184/754) /content/Test.mp4: 1280x736 2 mandarins, 74.2ms\n",
            "video 1/1 (frame 185/754) /content/Test.mp4: 1280x736 2 mandarins, 74.3ms\n",
            "video 1/1 (frame 186/754) /content/Test.mp4: 1280x736 3 mandarins, 74.2ms\n",
            "video 1/1 (frame 187/754) /content/Test.mp4: 1280x736 2 mandarins, 74.2ms\n",
            "video 1/1 (frame 188/754) /content/Test.mp4: 1280x736 2 mandarins, 74.2ms\n",
            "video 1/1 (frame 189/754) /content/Test.mp4: 1280x736 2 mandarins, 74.2ms\n",
            "video 1/1 (frame 190/754) /content/Test.mp4: 1280x736 2 mandarins, 74.2ms\n",
            "video 1/1 (frame 191/754) /content/Test.mp4: 1280x736 (no detections), 74.2ms\n",
            "video 1/1 (frame 192/754) /content/Test.mp4: 1280x736 (no detections), 74.2ms\n",
            "video 1/1 (frame 193/754) /content/Test.mp4: 1280x736 (no detections), 74.2ms\n",
            "video 1/1 (frame 194/754) /content/Test.mp4: 1280x736 (no detections), 74.2ms\n",
            "video 1/1 (frame 195/754) /content/Test.mp4: 1280x736 (no detections), 74.2ms\n",
            "video 1/1 (frame 196/754) /content/Test.mp4: 1280x736 1 mandarin, 74.2ms\n",
            "video 1/1 (frame 197/754) /content/Test.mp4: 1280x736 1 mandarin, 74.2ms\n",
            "video 1/1 (frame 198/754) /content/Test.mp4: 1280x736 2 mandarins, 74.2ms\n",
            "video 1/1 (frame 199/754) /content/Test.mp4: 1280x736 (no detections), 74.3ms\n",
            "video 1/1 (frame 200/754) /content/Test.mp4: 1280x736 (no detections), 74.2ms\n",
            "video 1/1 (frame 201/754) /content/Test.mp4: 1280x736 1 mandarin, 74.2ms\n",
            "video 1/1 (frame 202/754) /content/Test.mp4: 1280x736 2 mandarins, 74.2ms\n",
            "video 1/1 (frame 203/754) /content/Test.mp4: 1280x736 1 mandarin, 74.2ms\n",
            "video 1/1 (frame 204/754) /content/Test.mp4: 1280x736 1 mandarin, 74.3ms\n",
            "video 1/1 (frame 205/754) /content/Test.mp4: 1280x736 1 mandarin, 74.1ms\n",
            "video 1/1 (frame 206/754) /content/Test.mp4: 1280x736 1 mandarin, 74.2ms\n",
            "video 1/1 (frame 207/754) /content/Test.mp4: 1280x736 2 mandarins, 74.2ms\n",
            "video 1/1 (frame 208/754) /content/Test.mp4: 1280x736 1 mandarin, 74.2ms\n",
            "video 1/1 (frame 209/754) /content/Test.mp4: 1280x736 1 mandarin, 74.2ms\n",
            "video 1/1 (frame 210/754) /content/Test.mp4: 1280x736 2 mandarins, 74.2ms\n",
            "video 1/1 (frame 211/754) /content/Test.mp4: 1280x736 1 mandarin, 74.2ms\n",
            "video 1/1 (frame 212/754) /content/Test.mp4: 1280x736 1 mandarin, 74.2ms\n",
            "video 1/1 (frame 213/754) /content/Test.mp4: 1280x736 1 mandarin, 74.2ms\n",
            "video 1/1 (frame 214/754) /content/Test.mp4: 1280x736 2 mandarins, 74.1ms\n",
            "video 1/1 (frame 215/754) /content/Test.mp4: 1280x736 2 mandarins, 74.3ms\n",
            "video 1/1 (frame 216/754) /content/Test.mp4: 1280x736 2 mandarins, 74.2ms\n",
            "video 1/1 (frame 217/754) /content/Test.mp4: 1280x736 2 mandarins, 74.2ms\n",
            "video 1/1 (frame 218/754) /content/Test.mp4: 1280x736 2 mandarins, 74.2ms\n",
            "video 1/1 (frame 219/754) /content/Test.mp4: 1280x736 2 mandarins, 74.1ms\n",
            "video 1/1 (frame 220/754) /content/Test.mp4: 1280x736 2 mandarins, 74.2ms\n",
            "video 1/1 (frame 221/754) /content/Test.mp4: 1280x736 1 mandarin, 74.3ms\n",
            "video 1/1 (frame 222/754) /content/Test.mp4: 1280x736 1 mandarin, 74.1ms\n",
            "video 1/1 (frame 223/754) /content/Test.mp4: 1280x736 1 mandarin, 74.2ms\n",
            "video 1/1 (frame 224/754) /content/Test.mp4: 1280x736 2 mandarins, 74.1ms\n",
            "video 1/1 (frame 225/754) /content/Test.mp4: 1280x736 2 mandarins, 74.2ms\n",
            "video 1/1 (frame 226/754) /content/Test.mp4: 1280x736 2 mandarins, 74.1ms\n",
            "video 1/1 (frame 227/754) /content/Test.mp4: 1280x736 2 mandarins, 74.3ms\n",
            "video 1/1 (frame 228/754) /content/Test.mp4: 1280x736 2 mandarins, 74.3ms\n",
            "video 1/1 (frame 229/754) /content/Test.mp4: 1280x736 2 mandarins, 74.2ms\n",
            "video 1/1 (frame 230/754) /content/Test.mp4: 1280x736 2 mandarins, 74.2ms\n",
            "video 1/1 (frame 231/754) /content/Test.mp4: 1280x736 1 mandarin, 74.1ms\n",
            "video 1/1 (frame 232/754) /content/Test.mp4: 1280x736 1 mandarin, 74.2ms\n",
            "video 1/1 (frame 233/754) /content/Test.mp4: 1280x736 1 mandarin, 74.2ms\n",
            "video 1/1 (frame 234/754) /content/Test.mp4: 1280x736 1 mandarin, 74.2ms\n",
            "video 1/1 (frame 235/754) /content/Test.mp4: 1280x736 2 mandarins, 78.0ms\n",
            "video 1/1 (frame 236/754) /content/Test.mp4: 1280x736 3 mandarins, 74.1ms\n",
            "video 1/1 (frame 237/754) /content/Test.mp4: 1280x736 2 mandarins, 74.2ms\n",
            "video 1/1 (frame 238/754) /content/Test.mp4: 1280x736 1 mandarin, 74.1ms\n",
            "video 1/1 (frame 239/754) /content/Test.mp4: 1280x736 2 mandarins, 74.1ms\n",
            "video 1/1 (frame 240/754) /content/Test.mp4: 1280x736 2 mandarins, 74.2ms\n",
            "video 1/1 (frame 241/754) /content/Test.mp4: 1280x736 2 mandarins, 74.2ms\n",
            "video 1/1 (frame 242/754) /content/Test.mp4: 1280x736 2 mandarins, 74.2ms\n",
            "video 1/1 (frame 243/754) /content/Test.mp4: 1280x736 2 mandarins, 74.2ms\n",
            "video 1/1 (frame 244/754) /content/Test.mp4: 1280x736 1 mandarin, 74.2ms\n",
            "video 1/1 (frame 245/754) /content/Test.mp4: 1280x736 2 mandarins, 74.2ms\n",
            "video 1/1 (frame 246/754) /content/Test.mp4: 1280x736 1 mandarin, 74.2ms\n",
            "video 1/1 (frame 247/754) /content/Test.mp4: 1280x736 2 mandarins, 74.2ms\n",
            "video 1/1 (frame 248/754) /content/Test.mp4: 1280x736 1 mandarin, 74.1ms\n",
            "video 1/1 (frame 249/754) /content/Test.mp4: 1280x736 (no detections), 74.2ms\n",
            "video 1/1 (frame 250/754) /content/Test.mp4: 1280x736 (no detections), 74.1ms\n",
            "video 1/1 (frame 251/754) /content/Test.mp4: 1280x736 (no detections), 74.2ms\n",
            "video 1/1 (frame 252/754) /content/Test.mp4: 1280x736 (no detections), 74.3ms\n",
            "video 1/1 (frame 253/754) /content/Test.mp4: 1280x736 (no detections), 74.1ms\n",
            "video 1/1 (frame 254/754) /content/Test.mp4: 1280x736 (no detections), 74.1ms\n",
            "video 1/1 (frame 255/754) /content/Test.mp4: 1280x736 1 mandarin, 74.1ms\n",
            "video 1/1 (frame 256/754) /content/Test.mp4: 1280x736 1 mandarin, 74.1ms\n",
            "video 1/1 (frame 257/754) /content/Test.mp4: 1280x736 (no detections), 74.2ms\n",
            "video 1/1 (frame 258/754) /content/Test.mp4: 1280x736 (no detections), 74.2ms\n",
            "video 1/1 (frame 259/754) /content/Test.mp4: 1280x736 (no detections), 74.3ms\n",
            "video 1/1 (frame 260/754) /content/Test.mp4: 1280x736 (no detections), 74.2ms\n",
            "video 1/1 (frame 261/754) /content/Test.mp4: 1280x736 (no detections), 74.2ms\n",
            "video 1/1 (frame 262/754) /content/Test.mp4: 1280x736 (no detections), 74.1ms\n",
            "video 1/1 (frame 263/754) /content/Test.mp4: 1280x736 (no detections), 74.6ms\n",
            "video 1/1 (frame 264/754) /content/Test.mp4: 1280x736 (no detections), 74.8ms\n",
            "video 1/1 (frame 265/754) /content/Test.mp4: 1280x736 1 mandarin, 74.2ms\n",
            "video 1/1 (frame 266/754) /content/Test.mp4: 1280x736 (no detections), 74.2ms\n",
            "video 1/1 (frame 267/754) /content/Test.mp4: 1280x736 (no detections), 74.2ms\n",
            "video 1/1 (frame 268/754) /content/Test.mp4: 1280x736 (no detections), 74.1ms\n",
            "video 1/1 (frame 269/754) /content/Test.mp4: 1280x736 (no detections), 75.7ms\n",
            "video 1/1 (frame 270/754) /content/Test.mp4: 1280x736 (no detections), 74.2ms\n",
            "video 1/1 (frame 271/754) /content/Test.mp4: 1280x736 (no detections), 74.8ms\n",
            "video 1/1 (frame 272/754) /content/Test.mp4: 1280x736 (no detections), 74.2ms\n",
            "video 1/1 (frame 273/754) /content/Test.mp4: 1280x736 (no detections), 74.3ms\n",
            "video 1/1 (frame 274/754) /content/Test.mp4: 1280x736 (no detections), 74.2ms\n",
            "video 1/1 (frame 275/754) /content/Test.mp4: 1280x736 1 mandarin, 74.3ms\n",
            "video 1/1 (frame 276/754) /content/Test.mp4: 1280x736 1 mandarin, 74.2ms\n",
            "video 1/1 (frame 277/754) /content/Test.mp4: 1280x736 1 mandarin, 74.2ms\n",
            "video 1/1 (frame 278/754) /content/Test.mp4: 1280x736 1 mandarin, 74.3ms\n",
            "video 1/1 (frame 279/754) /content/Test.mp4: 1280x736 2 mandarins, 74.3ms\n",
            "video 1/1 (frame 280/754) /content/Test.mp4: 1280x736 1 mandarin, 74.7ms\n",
            "video 1/1 (frame 281/754) /content/Test.mp4: 1280x736 1 mandarin, 74.2ms\n",
            "video 1/1 (frame 282/754) /content/Test.mp4: 1280x736 (no detections), 74.1ms\n",
            "video 1/1 (frame 283/754) /content/Test.mp4: 1280x736 (no detections), 74.2ms\n",
            "video 1/1 (frame 284/754) /content/Test.mp4: 1280x736 (no detections), 74.1ms\n",
            "video 1/1 (frame 285/754) /content/Test.mp4: 1280x736 (no detections), 74.1ms\n",
            "video 1/1 (frame 286/754) /content/Test.mp4: 1280x736 (no detections), 74.1ms\n",
            "video 1/1 (frame 287/754) /content/Test.mp4: 1280x736 (no detections), 74.1ms\n",
            "video 1/1 (frame 288/754) /content/Test.mp4: 1280x736 1 mandarin, 74.1ms\n",
            "video 1/1 (frame 289/754) /content/Test.mp4: 1280x736 (no detections), 74.2ms\n",
            "video 1/1 (frame 290/754) /content/Test.mp4: 1280x736 (no detections), 74.1ms\n",
            "video 1/1 (frame 291/754) /content/Test.mp4: 1280x736 (no detections), 74.1ms\n",
            "video 1/1 (frame 292/754) /content/Test.mp4: 1280x736 (no detections), 74.1ms\n",
            "video 1/1 (frame 293/754) /content/Test.mp4: 1280x736 (no detections), 74.2ms\n",
            "video 1/1 (frame 294/754) /content/Test.mp4: 1280x736 (no detections), 74.2ms\n",
            "video 1/1 (frame 295/754) /content/Test.mp4: 1280x736 (no detections), 74.2ms\n",
            "video 1/1 (frame 296/754) /content/Test.mp4: 1280x736 (no detections), 74.2ms\n",
            "video 1/1 (frame 297/754) /content/Test.mp4: 1280x736 (no detections), 74.1ms\n",
            "video 1/1 (frame 298/754) /content/Test.mp4: 1280x736 (no detections), 74.1ms\n",
            "video 1/1 (frame 299/754) /content/Test.mp4: 1280x736 1 mandarin, 74.1ms\n",
            "video 1/1 (frame 300/754) /content/Test.mp4: 1280x736 (no detections), 74.4ms\n",
            "video 1/1 (frame 301/754) /content/Test.mp4: 1280x736 (no detections), 74.2ms\n",
            "video 1/1 (frame 302/754) /content/Test.mp4: 1280x736 (no detections), 74.2ms\n",
            "video 1/1 (frame 303/754) /content/Test.mp4: 1280x736 (no detections), 74.1ms\n",
            "video 1/1 (frame 304/754) /content/Test.mp4: 1280x736 (no detections), 74.2ms\n",
            "video 1/1 (frame 305/754) /content/Test.mp4: 1280x736 (no detections), 66927.2ms\n",
            "video 1/1 (frame 306/754) /content/Test.mp4: 1280x736 1 mandarin, 244.5ms\n",
            "video 1/1 (frame 307/754) /content/Test.mp4: 1280x736 1 mandarin, 74.2ms\n",
            "video 1/1 (frame 308/754) /content/Test.mp4: 1280x736 (no detections), 74.2ms\n",
            "video 1/1 (frame 309/754) /content/Test.mp4: 1280x736 (no detections), 74.3ms\n",
            "video 1/1 (frame 310/754) /content/Test.mp4: 1280x736 (no detections), 74.2ms\n",
            "video 1/1 (frame 311/754) /content/Test.mp4: 1280x736 (no detections), 74.3ms\n",
            "video 1/1 (frame 312/754) /content/Test.mp4: 1280x736 (no detections), 74.2ms\n",
            "video 1/1 (frame 313/754) /content/Test.mp4: 1280x736 (no detections), 74.4ms\n"
          ]
        }
      ]
    },
    {
      "cell_type": "code",
      "source": [
        "import torch\n",
        "from ultralytics import YOLO\n",
        "model_scripted = YOLO('best.pt') # Export to TorchScript\n",
        "model_scripted.export(format = 'torchscript')"
      ],
      "metadata": {
        "colab": {
          "base_uri": "https://localhost:8080/",
          "height": 261
        },
        "id": "TLw9laiMKU9S",
        "outputId": "0c59719b-4357-4d49-e1bb-1cd7053e5c0d"
      },
      "execution_count": null,
      "outputs": [
        {
          "output_type": "stream",
          "name": "stdout",
          "text": [
            "Ultralytics YOLOv8.2.0 🚀 Python-3.10.12 torch-2.2.1+cu121 CPU (AMD EPYC 7B12)\n",
            "Model summary (fused): 218 layers, 25840339 parameters, 0 gradients, 78.7 GFLOPs\n",
            "\n",
            "\u001b[34m\u001b[1mPyTorch:\u001b[0m starting from 'best.pt' with input shape (1, 3, 640, 640) BCHW and output shape(s) (1, 5, 8400) (49.6 MB)\n",
            "\n",
            "\u001b[34m\u001b[1mTorchScript:\u001b[0m starting export with torch 2.2.1+cu121...\n",
            "\u001b[34m\u001b[1mTorchScript:\u001b[0m export success ✅ 6.6s, saved as 'best.torchscript' (99.1 MB)\n",
            "\n",
            "Export complete (11.9s)\n",
            "Results saved to \u001b[1m/content\u001b[0m\n",
            "Predict:         yolo predict task=detect model=best.torchscript imgsz=640  \n",
            "Validate:        yolo val task=detect model=best.torchscript imgsz=640 data=data.yaml  \n",
            "Visualize:       https://netron.app\n"
          ]
        },
        {
          "output_type": "execute_result",
          "data": {
            "text/plain": [
              "'best.torchscript'"
            ],
            "application/vnd.google.colaboratory.intrinsic+json": {
              "type": "string"
            }
          },
          "metadata": {},
          "execution_count": 5
        }
      ]
    },
    {
      "cell_type": "code",
      "source": [
        "import torch\n",
        "model = torch.jit.load('best.torchscript')\n",
        "model.eval()"
      ],
      "metadata": {
        "colab": {
          "base_uri": "https://localhost:8080/"
        },
        "id": "km-2x2MmKXIN",
        "outputId": "75d19204-1e2f-41b3-dd76-1ceab761bce0"
      },
      "execution_count": null,
      "outputs": [
        {
          "output_type": "execute_result",
          "data": {
            "text/plain": [
              "RecursiveScriptModule(\n",
              "  original_name=DetectionModel\n",
              "  (model): RecursiveScriptModule(\n",
              "    original_name=Sequential\n",
              "    (0): RecursiveScriptModule(\n",
              "      original_name=Conv\n",
              "      (conv): RecursiveScriptModule(original_name=Conv2d)\n",
              "      (act): RecursiveScriptModule(original_name=SiLU)\n",
              "    )\n",
              "    (1): RecursiveScriptModule(\n",
              "      original_name=Conv\n",
              "      (conv): RecursiveScriptModule(original_name=Conv2d)\n",
              "      (act): RecursiveScriptModule(original_name=SiLU)\n",
              "    )\n",
              "    (2): RecursiveScriptModule(\n",
              "      original_name=C2f\n",
              "      (cv1): RecursiveScriptModule(\n",
              "        original_name=Conv\n",
              "        (conv): RecursiveScriptModule(original_name=Conv2d)\n",
              "        (act): RecursiveScriptModule(original_name=SiLU)\n",
              "      )\n",
              "      (cv2): RecursiveScriptModule(\n",
              "        original_name=Conv\n",
              "        (conv): RecursiveScriptModule(original_name=Conv2d)\n",
              "        (act): RecursiveScriptModule(original_name=SiLU)\n",
              "      )\n",
              "      (m): RecursiveScriptModule(\n",
              "        original_name=ModuleList\n",
              "        (0): RecursiveScriptModule(\n",
              "          original_name=Bottleneck\n",
              "          (cv1): RecursiveScriptModule(\n",
              "            original_name=Conv\n",
              "            (conv): RecursiveScriptModule(original_name=Conv2d)\n",
              "            (act): RecursiveScriptModule(original_name=SiLU)\n",
              "          )\n",
              "          (cv2): RecursiveScriptModule(\n",
              "            original_name=Conv\n",
              "            (conv): RecursiveScriptModule(original_name=Conv2d)\n",
              "            (act): RecursiveScriptModule(original_name=SiLU)\n",
              "          )\n",
              "        )\n",
              "      )\n",
              "    )\n",
              "    (3): RecursiveScriptModule(\n",
              "      original_name=Conv\n",
              "      (conv): RecursiveScriptModule(original_name=Conv2d)\n",
              "      (act): RecursiveScriptModule(original_name=SiLU)\n",
              "    )\n",
              "    (4): RecursiveScriptModule(\n",
              "      original_name=C2f\n",
              "      (cv1): RecursiveScriptModule(\n",
              "        original_name=Conv\n",
              "        (conv): RecursiveScriptModule(original_name=Conv2d)\n",
              "        (act): RecursiveScriptModule(original_name=SiLU)\n",
              "      )\n",
              "      (cv2): RecursiveScriptModule(\n",
              "        original_name=Conv\n",
              "        (conv): RecursiveScriptModule(original_name=Conv2d)\n",
              "        (act): RecursiveScriptModule(original_name=SiLU)\n",
              "      )\n",
              "      (m): RecursiveScriptModule(\n",
              "        original_name=ModuleList\n",
              "        (0): RecursiveScriptModule(\n",
              "          original_name=Bottleneck\n",
              "          (cv1): RecursiveScriptModule(\n",
              "            original_name=Conv\n",
              "            (conv): RecursiveScriptModule(original_name=Conv2d)\n",
              "            (act): RecursiveScriptModule(original_name=SiLU)\n",
              "          )\n",
              "          (cv2): RecursiveScriptModule(\n",
              "            original_name=Conv\n",
              "            (conv): RecursiveScriptModule(original_name=Conv2d)\n",
              "            (act): RecursiveScriptModule(original_name=SiLU)\n",
              "          )\n",
              "        )\n",
              "        (1): RecursiveScriptModule(\n",
              "          original_name=Bottleneck\n",
              "          (cv1): RecursiveScriptModule(\n",
              "            original_name=Conv\n",
              "            (conv): RecursiveScriptModule(original_name=Conv2d)\n",
              "            (act): RecursiveScriptModule(original_name=SiLU)\n",
              "          )\n",
              "          (cv2): RecursiveScriptModule(\n",
              "            original_name=Conv\n",
              "            (conv): RecursiveScriptModule(original_name=Conv2d)\n",
              "            (act): RecursiveScriptModule(original_name=SiLU)\n",
              "          )\n",
              "        )\n",
              "      )\n",
              "    )\n",
              "    (5): RecursiveScriptModule(\n",
              "      original_name=Conv\n",
              "      (conv): RecursiveScriptModule(original_name=Conv2d)\n",
              "      (act): RecursiveScriptModule(original_name=SiLU)\n",
              "    )\n",
              "    (6): RecursiveScriptModule(\n",
              "      original_name=C2f\n",
              "      (cv1): RecursiveScriptModule(\n",
              "        original_name=Conv\n",
              "        (conv): RecursiveScriptModule(original_name=Conv2d)\n",
              "        (act): RecursiveScriptModule(original_name=SiLU)\n",
              "      )\n",
              "      (cv2): RecursiveScriptModule(\n",
              "        original_name=Conv\n",
              "        (conv): RecursiveScriptModule(original_name=Conv2d)\n",
              "        (act): RecursiveScriptModule(original_name=SiLU)\n",
              "      )\n",
              "      (m): RecursiveScriptModule(\n",
              "        original_name=ModuleList\n",
              "        (0): RecursiveScriptModule(\n",
              "          original_name=Bottleneck\n",
              "          (cv1): RecursiveScriptModule(\n",
              "            original_name=Conv\n",
              "            (conv): RecursiveScriptModule(original_name=Conv2d)\n",
              "            (act): RecursiveScriptModule(original_name=SiLU)\n",
              "          )\n",
              "          (cv2): RecursiveScriptModule(\n",
              "            original_name=Conv\n",
              "            (conv): RecursiveScriptModule(original_name=Conv2d)\n",
              "            (act): RecursiveScriptModule(original_name=SiLU)\n",
              "          )\n",
              "        )\n",
              "        (1): RecursiveScriptModule(\n",
              "          original_name=Bottleneck\n",
              "          (cv1): RecursiveScriptModule(\n",
              "            original_name=Conv\n",
              "            (conv): RecursiveScriptModule(original_name=Conv2d)\n",
              "            (act): RecursiveScriptModule(original_name=SiLU)\n",
              "          )\n",
              "          (cv2): RecursiveScriptModule(\n",
              "            original_name=Conv\n",
              "            (conv): RecursiveScriptModule(original_name=Conv2d)\n",
              "            (act): RecursiveScriptModule(original_name=SiLU)\n",
              "          )\n",
              "        )\n",
              "      )\n",
              "    )\n",
              "    (7): RecursiveScriptModule(\n",
              "      original_name=Conv\n",
              "      (conv): RecursiveScriptModule(original_name=Conv2d)\n",
              "      (act): RecursiveScriptModule(original_name=SiLU)\n",
              "    )\n",
              "    (8): RecursiveScriptModule(\n",
              "      original_name=C2f\n",
              "      (cv1): RecursiveScriptModule(\n",
              "        original_name=Conv\n",
              "        (conv): RecursiveScriptModule(original_name=Conv2d)\n",
              "        (act): RecursiveScriptModule(original_name=SiLU)\n",
              "      )\n",
              "      (cv2): RecursiveScriptModule(\n",
              "        original_name=Conv\n",
              "        (conv): RecursiveScriptModule(original_name=Conv2d)\n",
              "        (act): RecursiveScriptModule(original_name=SiLU)\n",
              "      )\n",
              "      (m): RecursiveScriptModule(\n",
              "        original_name=ModuleList\n",
              "        (0): RecursiveScriptModule(\n",
              "          original_name=Bottleneck\n",
              "          (cv1): RecursiveScriptModule(\n",
              "            original_name=Conv\n",
              "            (conv): RecursiveScriptModule(original_name=Conv2d)\n",
              "            (act): RecursiveScriptModule(original_name=SiLU)\n",
              "          )\n",
              "          (cv2): RecursiveScriptModule(\n",
              "            original_name=Conv\n",
              "            (conv): RecursiveScriptModule(original_name=Conv2d)\n",
              "            (act): RecursiveScriptModule(original_name=SiLU)\n",
              "          )\n",
              "        )\n",
              "      )\n",
              "    )\n",
              "    (9): RecursiveScriptModule(\n",
              "      original_name=SPPF\n",
              "      (cv1): RecursiveScriptModule(\n",
              "        original_name=Conv\n",
              "        (conv): RecursiveScriptModule(original_name=Conv2d)\n",
              "        (act): RecursiveScriptModule(original_name=SiLU)\n",
              "      )\n",
              "      (cv2): RecursiveScriptModule(\n",
              "        original_name=Conv\n",
              "        (conv): RecursiveScriptModule(original_name=Conv2d)\n",
              "        (act): RecursiveScriptModule(original_name=SiLU)\n",
              "      )\n",
              "      (m): RecursiveScriptModule(original_name=MaxPool2d)\n",
              "    )\n",
              "    (10): RecursiveScriptModule(original_name=Upsample)\n",
              "    (11): RecursiveScriptModule(original_name=Concat)\n",
              "    (12): RecursiveScriptModule(\n",
              "      original_name=C2f\n",
              "      (cv1): RecursiveScriptModule(\n",
              "        original_name=Conv\n",
              "        (conv): RecursiveScriptModule(original_name=Conv2d)\n",
              "        (act): RecursiveScriptModule(original_name=SiLU)\n",
              "      )\n",
              "      (cv2): RecursiveScriptModule(\n",
              "        original_name=Conv\n",
              "        (conv): RecursiveScriptModule(original_name=Conv2d)\n",
              "        (act): RecursiveScriptModule(original_name=SiLU)\n",
              "      )\n",
              "      (m): RecursiveScriptModule(\n",
              "        original_name=ModuleList\n",
              "        (0): RecursiveScriptModule(\n",
              "          original_name=Bottleneck\n",
              "          (cv1): RecursiveScriptModule(\n",
              "            original_name=Conv\n",
              "            (conv): RecursiveScriptModule(original_name=Conv2d)\n",
              "            (act): RecursiveScriptModule(original_name=SiLU)\n",
              "          )\n",
              "          (cv2): RecursiveScriptModule(\n",
              "            original_name=Conv\n",
              "            (conv): RecursiveScriptModule(original_name=Conv2d)\n",
              "            (act): RecursiveScriptModule(original_name=SiLU)\n",
              "          )\n",
              "        )\n",
              "      )\n",
              "    )\n",
              "    (13): RecursiveScriptModule(original_name=Upsample)\n",
              "    (14): RecursiveScriptModule(original_name=Concat)\n",
              "    (15): RecursiveScriptModule(\n",
              "      original_name=C2f\n",
              "      (cv1): RecursiveScriptModule(\n",
              "        original_name=Conv\n",
              "        (conv): RecursiveScriptModule(original_name=Conv2d)\n",
              "        (act): RecursiveScriptModule(original_name=SiLU)\n",
              "      )\n",
              "      (cv2): RecursiveScriptModule(\n",
              "        original_name=Conv\n",
              "        (conv): RecursiveScriptModule(original_name=Conv2d)\n",
              "        (act): RecursiveScriptModule(original_name=SiLU)\n",
              "      )\n",
              "      (m): RecursiveScriptModule(\n",
              "        original_name=ModuleList\n",
              "        (0): RecursiveScriptModule(\n",
              "          original_name=Bottleneck\n",
              "          (cv1): RecursiveScriptModule(\n",
              "            original_name=Conv\n",
              "            (conv): RecursiveScriptModule(original_name=Conv2d)\n",
              "            (act): RecursiveScriptModule(original_name=SiLU)\n",
              "          )\n",
              "          (cv2): RecursiveScriptModule(\n",
              "            original_name=Conv\n",
              "            (conv): RecursiveScriptModule(original_name=Conv2d)\n",
              "            (act): RecursiveScriptModule(original_name=SiLU)\n",
              "          )\n",
              "        )\n",
              "      )\n",
              "    )\n",
              "    (16): RecursiveScriptModule(\n",
              "      original_name=Conv\n",
              "      (conv): RecursiveScriptModule(original_name=Conv2d)\n",
              "      (act): RecursiveScriptModule(original_name=SiLU)\n",
              "    )\n",
              "    (17): RecursiveScriptModule(original_name=Concat)\n",
              "    (18): RecursiveScriptModule(\n",
              "      original_name=C2f\n",
              "      (cv1): RecursiveScriptModule(\n",
              "        original_name=Conv\n",
              "        (conv): RecursiveScriptModule(original_name=Conv2d)\n",
              "        (act): RecursiveScriptModule(original_name=SiLU)\n",
              "      )\n",
              "      (cv2): RecursiveScriptModule(\n",
              "        original_name=Conv\n",
              "        (conv): RecursiveScriptModule(original_name=Conv2d)\n",
              "        (act): RecursiveScriptModule(original_name=SiLU)\n",
              "      )\n",
              "      (m): RecursiveScriptModule(\n",
              "        original_name=ModuleList\n",
              "        (0): RecursiveScriptModule(\n",
              "          original_name=Bottleneck\n",
              "          (cv1): RecursiveScriptModule(\n",
              "            original_name=Conv\n",
              "            (conv): RecursiveScriptModule(original_name=Conv2d)\n",
              "            (act): RecursiveScriptModule(original_name=SiLU)\n",
              "          )\n",
              "          (cv2): RecursiveScriptModule(\n",
              "            original_name=Conv\n",
              "            (conv): RecursiveScriptModule(original_name=Conv2d)\n",
              "            (act): RecursiveScriptModule(original_name=SiLU)\n",
              "          )\n",
              "        )\n",
              "      )\n",
              "    )\n",
              "    (19): RecursiveScriptModule(\n",
              "      original_name=Conv\n",
              "      (conv): RecursiveScriptModule(original_name=Conv2d)\n",
              "      (act): RecursiveScriptModule(original_name=SiLU)\n",
              "    )\n",
              "    (20): RecursiveScriptModule(original_name=Concat)\n",
              "    (21): RecursiveScriptModule(\n",
              "      original_name=C2f\n",
              "      (cv1): RecursiveScriptModule(\n",
              "        original_name=Conv\n",
              "        (conv): RecursiveScriptModule(original_name=Conv2d)\n",
              "        (act): RecursiveScriptModule(original_name=SiLU)\n",
              "      )\n",
              "      (cv2): RecursiveScriptModule(\n",
              "        original_name=Conv\n",
              "        (conv): RecursiveScriptModule(original_name=Conv2d)\n",
              "        (act): RecursiveScriptModule(original_name=SiLU)\n",
              "      )\n",
              "      (m): RecursiveScriptModule(\n",
              "        original_name=ModuleList\n",
              "        (0): RecursiveScriptModule(\n",
              "          original_name=Bottleneck\n",
              "          (cv1): RecursiveScriptModule(\n",
              "            original_name=Conv\n",
              "            (conv): RecursiveScriptModule(original_name=Conv2d)\n",
              "            (act): RecursiveScriptModule(original_name=SiLU)\n",
              "          )\n",
              "          (cv2): RecursiveScriptModule(\n",
              "            original_name=Conv\n",
              "            (conv): RecursiveScriptModule(original_name=Conv2d)\n",
              "            (act): RecursiveScriptModule(original_name=SiLU)\n",
              "          )\n",
              "        )\n",
              "      )\n",
              "    )\n",
              "    (22): RecursiveScriptModule(\n",
              "      original_name=Detect\n",
              "      (cv2): RecursiveScriptModule(\n",
              "        original_name=ModuleList\n",
              "        (0): RecursiveScriptModule(\n",
              "          original_name=Sequential\n",
              "          (0): RecursiveScriptModule(\n",
              "            original_name=Conv\n",
              "            (conv): RecursiveScriptModule(original_name=Conv2d)\n",
              "            (act): RecursiveScriptModule(original_name=SiLU)\n",
              "          )\n",
              "          (1): RecursiveScriptModule(\n",
              "            original_name=Conv\n",
              "            (conv): RecursiveScriptModule(original_name=Conv2d)\n",
              "            (act): RecursiveScriptModule(original_name=SiLU)\n",
              "          )\n",
              "          (2): RecursiveScriptModule(original_name=Conv2d)\n",
              "        )\n",
              "        (1): RecursiveScriptModule(\n",
              "          original_name=Sequential\n",
              "          (0): RecursiveScriptModule(\n",
              "            original_name=Conv\n",
              "            (conv): RecursiveScriptModule(original_name=Conv2d)\n",
              "            (act): RecursiveScriptModule(original_name=SiLU)\n",
              "          )\n",
              "          (1): RecursiveScriptModule(\n",
              "            original_name=Conv\n",
              "            (conv): RecursiveScriptModule(original_name=Conv2d)\n",
              "            (act): RecursiveScriptModule(original_name=SiLU)\n",
              "          )\n",
              "          (2): RecursiveScriptModule(original_name=Conv2d)\n",
              "        )\n",
              "        (2): RecursiveScriptModule(\n",
              "          original_name=Sequential\n",
              "          (0): RecursiveScriptModule(\n",
              "            original_name=Conv\n",
              "            (conv): RecursiveScriptModule(original_name=Conv2d)\n",
              "            (act): RecursiveScriptModule(original_name=SiLU)\n",
              "          )\n",
              "          (1): RecursiveScriptModule(\n",
              "            original_name=Conv\n",
              "            (conv): RecursiveScriptModule(original_name=Conv2d)\n",
              "            (act): RecursiveScriptModule(original_name=SiLU)\n",
              "          )\n",
              "          (2): RecursiveScriptModule(original_name=Conv2d)\n",
              "        )\n",
              "      )\n",
              "      (cv3): RecursiveScriptModule(\n",
              "        original_name=ModuleList\n",
              "        (0): RecursiveScriptModule(\n",
              "          original_name=Sequential\n",
              "          (0): RecursiveScriptModule(\n",
              "            original_name=Conv\n",
              "            (conv): RecursiveScriptModule(original_name=Conv2d)\n",
              "            (act): RecursiveScriptModule(original_name=SiLU)\n",
              "          )\n",
              "          (1): RecursiveScriptModule(\n",
              "            original_name=Conv\n",
              "            (conv): RecursiveScriptModule(original_name=Conv2d)\n",
              "            (act): RecursiveScriptModule(original_name=SiLU)\n",
              "          )\n",
              "          (2): RecursiveScriptModule(original_name=Conv2d)\n",
              "        )\n",
              "        (1): RecursiveScriptModule(\n",
              "          original_name=Sequential\n",
              "          (0): RecursiveScriptModule(\n",
              "            original_name=Conv\n",
              "            (conv): RecursiveScriptModule(original_name=Conv2d)\n",
              "            (act): RecursiveScriptModule(original_name=SiLU)\n",
              "          )\n",
              "          (1): RecursiveScriptModule(\n",
              "            original_name=Conv\n",
              "            (conv): RecursiveScriptModule(original_name=Conv2d)\n",
              "            (act): RecursiveScriptModule(original_name=SiLU)\n",
              "          )\n",
              "          (2): RecursiveScriptModule(original_name=Conv2d)\n",
              "        )\n",
              "        (2): RecursiveScriptModule(\n",
              "          original_name=Sequential\n",
              "          (0): RecursiveScriptModule(\n",
              "            original_name=Conv\n",
              "            (conv): RecursiveScriptModule(original_name=Conv2d)\n",
              "            (act): RecursiveScriptModule(original_name=SiLU)\n",
              "          )\n",
              "          (1): RecursiveScriptModule(\n",
              "            original_name=Conv\n",
              "            (conv): RecursiveScriptModule(original_name=Conv2d)\n",
              "            (act): RecursiveScriptModule(original_name=SiLU)\n",
              "          )\n",
              "          (2): RecursiveScriptModule(original_name=Conv2d)\n",
              "        )\n",
              "      )\n",
              "      (dfl): RecursiveScriptModule(\n",
              "        original_name=DFL\n",
              "        (conv): RecursiveScriptModule(original_name=Conv2d)\n",
              "      )\n",
              "    )\n",
              "  )\n",
              ")"
            ]
          },
          "metadata": {},
          "execution_count": 7
        }
      ]
    }
  ]
}