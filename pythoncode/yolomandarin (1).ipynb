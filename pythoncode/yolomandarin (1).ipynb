{
  "nbformat": 4,
  "nbformat_minor": 0,
  "metadata": {
    "colab": {
      "provenance": []
    },
    "kernelspec": {
      "name": "python3",
      "display_name": "Python 3"
    },
    "language_info": {
      "name": "python"
    }
  },
  "cells": [
    {
      "cell_type": "code",
      "execution_count": null,
      "metadata": {
        "id": "F1e4l_t2gwEZ"
      },
      "outputs": [],
      "source": [
        "import torch\n",
        "torch.cuda.is_available()"
      ]
    },
    {
      "cell_type": "code",
      "source": [
        "!pip install roboflow\n",
        "\n",
        "from roboflow import Roboflow\n",
        "rf = Roboflow(api_key=\"#####\")\n",
        "project = rf.workspace(\"#####\").project(\"#####\")\n",
        "version = project.version(1)\n",
        "dataset = version.download(\"yolov8\")"
      ],
      "metadata": {
        "id": "GNPpTRnvhXge"
      },
      "execution_count": null,
      "outputs": []
    },
    {
      "cell_type": "code",
      "source": [
        "!pip install ultralytics"
      ],
      "metadata": {
        "id": "_R0ZZSwmrlng"
      },
      "execution_count": null,
      "outputs": []
    },
    {
      "cell_type": "code",
      "source": [
        "from ultralytics import YOLO\n",
        "\n",
        "model = YOLO('yolov8m.pt')\n",
        "\n",
        "result = model.train(data = 'data.yaml',epochs = 100, imgsz = 640)"
      ],
      "metadata": {
        "id": "37HmlbOxrqYK"
      },
      "execution_count": null,
      "outputs": []
    },
    {
      "cell_type": "code",
      "source": [
        "pre = model.predict(\n",
        "    source=\"Test.mp4\",\n",
        "    show=True,\n",
        "    imgsz=1280,\n",
        "    hide_labels=True,\n",
        "    save=True,\n",
        "    name=\"res\",\n",
        "    conf=0.1,\n",
        "    )"
      ],
      "metadata": {
        "id": "vnsrxQl7zpDo"
      },
      "execution_count": null,
      "outputs": []
    },
    {
      "cell_type": "code",
      "source": [
        "import torch\n",
        "from ultralytics import YOLO\n",
        "model_scripted = YOLO('best.pt') # Export to TorchScript\n",
        "model_scripted.export(format = 'torchscript')"
      ],
      "metadata": {
        "id": "TLw9laiMKU9S"
      },
      "execution_count": null,
      "outputs": []
    },
    {
      "cell_type": "code",
      "source": [
        "import torch\n",
        "model = torch.jit.load('best.torchscript')\n",
        "model.eval()"
      ],
      "metadata": {
        "id": "km-2x2MmKXIN"
      },
      "execution_count": null,
      "outputs": []
    }
  ]
}